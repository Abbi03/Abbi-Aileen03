{
 "cells": [
  {
   "cell_type": "markdown",
   "metadata": {},
   "source": [
    "# Situación Problema"
   ]
  },
  {
   "cell_type": "markdown",
   "metadata": {},
   "source": [
    "### **Pronosticar el '% de Desperdicio' que se genera en los procesos de producción de la empresa Polímeros PR S.A. de C.V a través del diseño de un modelo de Regresión Simple**"
   ]
  },
  {
   "cell_type": "markdown",
   "metadata": {},
   "source": [
    "**_- Importar las librerías a utilizar_**"
   ]
  },
  {
   "cell_type": "code",
   "execution_count": 1,
   "metadata": {},
   "outputs": [],
   "source": [
    "import pandas as pd\n",
    "import numpy as np\n",
    "import matplotlib as mpl\n",
    "import matplotlib.pyplot as plt\n",
    "import seaborn as sns"
   ]
  },
  {
   "cell_type": "code",
   "execution_count": 2,
   "metadata": {},
   "outputs": [
    {
     "name": "stdout",
     "output_type": "stream",
     "text": [
      "Requirement already satisfied: openpyxl in /srv/conda/envs/notebook/lib/python3.8/site-packages (3.0.9)\n",
      "Requirement already satisfied: et-xmlfile in /srv/conda/envs/notebook/lib/python3.8/site-packages (from openpyxl) (1.1.0)\n",
      "Note: you may need to restart the kernel to use updated packages.\n"
     ]
    }
   ],
   "source": [
    "pip install openpyxl"
   ]
  },
  {
   "cell_type": "code",
   "execution_count": 3,
   "metadata": {},
   "outputs": [
    {
     "name": "stdout",
     "output_type": "stream",
     "text": [
      "Requirement already satisfied: xlrd in /srv/conda/envs/notebook/lib/python3.8/site-packages (2.0.1)\n",
      "Note: you may need to restart the kernel to use updated packages.\n"
     ]
    }
   ],
   "source": [
    "pip install xlrd"
   ]
  },
  {
   "cell_type": "code",
   "execution_count": 4,
   "metadata": {},
   "outputs": [
    {
     "name": "stdout",
     "output_type": "stream",
     "text": [
      "Collecting statsmodels\n",
      "  Downloading statsmodels-0.13.0-cp38-cp38-manylinux_2_17_x86_64.manylinux2014_x86_64.whl (9.9 MB)\n",
      "\u001b[K     |████████████████████████████████| 9.9 MB 5.1 MB/s eta 0:00:01\n",
      "\u001b[?25hCollecting patsy>=0.5.2\n",
      "  Downloading patsy-0.5.2-py2.py3-none-any.whl (233 kB)\n",
      "\u001b[K     |████████████████████████████████| 233 kB 48.2 MB/s eta 0:00:01\n",
      "\u001b[?25hRequirement already satisfied: pandas>=0.25 in /srv/conda/envs/notebook/lib/python3.8/site-packages (from statsmodels) (1.0.4)\n",
      "Requirement already satisfied: scipy>=1.3 in /srv/conda/envs/notebook/lib/python3.8/site-packages (from statsmodels) (1.4.1)\n",
      "Requirement already satisfied: numpy>=1.17 in /srv/conda/envs/notebook/lib/python3.8/site-packages (from statsmodels) (1.18.5)\n",
      "Requirement already satisfied: pytz>=2017.2 in /srv/conda/envs/notebook/lib/python3.8/site-packages (from pandas>=0.25->statsmodels) (2020.1)\n",
      "Requirement already satisfied: python-dateutil>=2.6.1 in /srv/conda/envs/notebook/lib/python3.8/site-packages (from pandas>=0.25->statsmodels) (2.8.1)\n",
      "Requirement already satisfied: six in /srv/conda/envs/notebook/lib/python3.8/site-packages (from patsy>=0.5.2->statsmodels) (1.15.0)\n",
      "Installing collected packages: patsy, statsmodels\n",
      "Successfully installed patsy-0.5.2 statsmodels-0.13.0\n",
      "Note: you may need to restart the kernel to use updated packages.\n"
     ]
    }
   ],
   "source": [
    "pip install statsmodels"
   ]
  },
  {
   "cell_type": "code",
   "execution_count": 5,
   "metadata": {},
   "outputs": [],
   "source": [
    "import statsmodels.api as sm"
   ]
  },
  {
   "cell_type": "code",
   "execution_count": 6,
   "metadata": {},
   "outputs": [
    {
     "name": "stdout",
     "output_type": "stream",
     "text": [
      " adult.csv                      data.csv\r\n",
      " airline_data.csv               headbrain.csv\r\n",
      " antropometria00.csv            movies.csv\r\n",
      " antropometria-dataset.csv      nhanes_2015_2016.csv\r\n",
      "'Base de Datos SP code.ipynb'   pokemon.csv\r\n",
      "'Base de Datos SP.xlsx'         sample_pivot.csv\r\n",
      " Canada.xlsx                   'Situación Problema code.ipynb'\r\n",
      " Cartwheeldata.csv              tips.csv\r\n",
      " census.csv                     weight-height.csv\r\n",
      " cwurData.csv\r\n"
     ]
    }
   ],
   "source": [
    "%ls datasets/"
   ]
  },
  {
   "cell_type": "markdown",
   "metadata": {},
   "source": [
    "## 1. ¿Cuál es la variable de interés a pronosticar?, ¿Qué se espera lograr con este proyecto?"
   ]
  },
  {
   "cell_type": "markdown",
   "metadata": {},
   "source": [
    "**_- Cargar la base de datos e identificar la variable de interés_**"
   ]
  },
  {
   "cell_type": "code",
   "execution_count": 7,
   "metadata": {},
   "outputs": [
    {
     "data": {
      "text/html": [
       "<div>\n",
       "<style scoped>\n",
       "    .dataframe tbody tr th:only-of-type {\n",
       "        vertical-align: middle;\n",
       "    }\n",
       "\n",
       "    .dataframe tbody tr th {\n",
       "        vertical-align: top;\n",
       "    }\n",
       "\n",
       "    .dataframe thead th {\n",
       "        text-align: right;\n",
       "    }\n",
       "</style>\n",
       "<table border=\"1\" class=\"dataframe\">\n",
       "  <thead>\n",
       "    <tr style=\"text-align: right;\">\n",
       "      <th></th>\n",
       "      <th>Día</th>\n",
       "      <th>Producto</th>\n",
       "      <th>Turno</th>\n",
       "      <th>Línea de \\nproducción</th>\n",
       "      <th>Proceso</th>\n",
       "      <th>Kg de materia prima utilizada</th>\n",
       "      <th>Kg de producto terminado que se tira</th>\n",
       "      <th>% Desperdicio</th>\n",
       "      <th>Piezas por día</th>\n",
       "      <th>Unnamed: 9</th>\n",
       "      <th>Unnamed: 10</th>\n",
       "    </tr>\n",
       "  </thead>\n",
       "  <tbody>\n",
       "    <tr>\n",
       "      <th>0</th>\n",
       "      <td>2020-10-10</td>\n",
       "      <td>A</td>\n",
       "      <td>Matutino</td>\n",
       "      <td>3</td>\n",
       "      <td>Extrusión</td>\n",
       "      <td>3604</td>\n",
       "      <td>865</td>\n",
       "      <td>0.240011</td>\n",
       "      <td>3500</td>\n",
       "      <td>NaN</td>\n",
       "      <td>NaN</td>\n",
       "    </tr>\n",
       "    <tr>\n",
       "      <th>1</th>\n",
       "      <td>2020-10-10</td>\n",
       "      <td>C</td>\n",
       "      <td>Vespertino</td>\n",
       "      <td>3</td>\n",
       "      <td>Moldeo</td>\n",
       "      <td>1180</td>\n",
       "      <td>401</td>\n",
       "      <td>0.339831</td>\n",
       "      <td>1200</td>\n",
       "      <td>NaN</td>\n",
       "      <td>NaN</td>\n",
       "    </tr>\n",
       "    <tr>\n",
       "      <th>2</th>\n",
       "      <td>2020-10-10</td>\n",
       "      <td>B</td>\n",
       "      <td>Vespertino</td>\n",
       "      <td>2</td>\n",
       "      <td>Inyección</td>\n",
       "      <td>4710</td>\n",
       "      <td>1884</td>\n",
       "      <td>0.400000</td>\n",
       "      <td>5000</td>\n",
       "      <td>NaN</td>\n",
       "      <td>NaN</td>\n",
       "    </tr>\n",
       "    <tr>\n",
       "      <th>3</th>\n",
       "      <td>2020-10-10</td>\n",
       "      <td>A</td>\n",
       "      <td>Matutino</td>\n",
       "      <td>3</td>\n",
       "      <td>Extrusión</td>\n",
       "      <td>3884</td>\n",
       "      <td>971</td>\n",
       "      <td>0.250000</td>\n",
       "      <td>3500</td>\n",
       "      <td>NaN</td>\n",
       "      <td>NaN</td>\n",
       "    </tr>\n",
       "    <tr>\n",
       "      <th>4</th>\n",
       "      <td>2020-10-10</td>\n",
       "      <td>C</td>\n",
       "      <td>Vespertino</td>\n",
       "      <td>3</td>\n",
       "      <td>Moldeo</td>\n",
       "      <td>1101</td>\n",
       "      <td>385</td>\n",
       "      <td>0.349682</td>\n",
       "      <td>1200</td>\n",
       "      <td>NaN</td>\n",
       "      <td>NaN</td>\n",
       "    </tr>\n",
       "    <tr>\n",
       "      <th>...</th>\n",
       "      <td>...</td>\n",
       "      <td>...</td>\n",
       "      <td>...</td>\n",
       "      <td>...</td>\n",
       "      <td>...</td>\n",
       "      <td>...</td>\n",
       "      <td>...</td>\n",
       "      <td>...</td>\n",
       "      <td>...</td>\n",
       "      <td>...</td>\n",
       "      <td>...</td>\n",
       "    </tr>\n",
       "    <tr>\n",
       "      <th>155</th>\n",
       "      <td>2020-11-29</td>\n",
       "      <td>C</td>\n",
       "      <td>Vespertino</td>\n",
       "      <td>3</td>\n",
       "      <td>Moldeo</td>\n",
       "      <td>1121</td>\n",
       "      <td>392</td>\n",
       "      <td>0.349688</td>\n",
       "      <td>1200</td>\n",
       "      <td>NaN</td>\n",
       "      <td>NaN</td>\n",
       "    </tr>\n",
       "    <tr>\n",
       "      <th>156</th>\n",
       "      <td>2020-11-29</td>\n",
       "      <td>B</td>\n",
       "      <td>Vespertino</td>\n",
       "      <td>2</td>\n",
       "      <td>Inyección</td>\n",
       "      <td>4896</td>\n",
       "      <td>1860</td>\n",
       "      <td>0.379902</td>\n",
       "      <td>5000</td>\n",
       "      <td>NaN</td>\n",
       "      <td>NaN</td>\n",
       "    </tr>\n",
       "    <tr>\n",
       "      <th>157</th>\n",
       "      <td>2020-11-30</td>\n",
       "      <td>A</td>\n",
       "      <td>Matutino</td>\n",
       "      <td>3</td>\n",
       "      <td>Extrusión</td>\n",
       "      <td>3602</td>\n",
       "      <td>792</td>\n",
       "      <td>0.219878</td>\n",
       "      <td>3500</td>\n",
       "      <td>NaN</td>\n",
       "      <td>NaN</td>\n",
       "    </tr>\n",
       "    <tr>\n",
       "      <th>158</th>\n",
       "      <td>2020-11-30</td>\n",
       "      <td>C</td>\n",
       "      <td>Vespertino</td>\n",
       "      <td>3</td>\n",
       "      <td>Moldeo</td>\n",
       "      <td>1130</td>\n",
       "      <td>418</td>\n",
       "      <td>0.369912</td>\n",
       "      <td>1200</td>\n",
       "      <td>NaN</td>\n",
       "      <td>NaN</td>\n",
       "    </tr>\n",
       "    <tr>\n",
       "      <th>159</th>\n",
       "      <td>2020-11-30</td>\n",
       "      <td>B</td>\n",
       "      <td>Vespertino</td>\n",
       "      <td>2</td>\n",
       "      <td>Inyección</td>\n",
       "      <td>4965</td>\n",
       "      <td>2234</td>\n",
       "      <td>0.449950</td>\n",
       "      <td>5000</td>\n",
       "      <td>NaN</td>\n",
       "      <td>NaN</td>\n",
       "    </tr>\n",
       "  </tbody>\n",
       "</table>\n",
       "<p>160 rows × 11 columns</p>\n",
       "</div>"
      ],
      "text/plain": [
       "           Día Producto       Turno  Línea de \\nproducción    Proceso  \\\n",
       "0   2020-10-10        A    Matutino                      3  Extrusión   \n",
       "1   2020-10-10        C  Vespertino                      3     Moldeo   \n",
       "2   2020-10-10        B  Vespertino                      2  Inyección   \n",
       "3   2020-10-10        A    Matutino                      3  Extrusión   \n",
       "4   2020-10-10        C  Vespertino                      3     Moldeo   \n",
       "..         ...      ...         ...                    ...        ...   \n",
       "155 2020-11-29        C  Vespertino                      3     Moldeo   \n",
       "156 2020-11-29        B  Vespertino                      2  Inyección   \n",
       "157 2020-11-30        A    Matutino                      3  Extrusión   \n",
       "158 2020-11-30        C  Vespertino                      3     Moldeo   \n",
       "159 2020-11-30        B  Vespertino                      2  Inyección   \n",
       "\n",
       "     Kg de materia prima utilizada  Kg de producto terminado que se tira  \\\n",
       "0                             3604                                   865   \n",
       "1                             1180                                   401   \n",
       "2                             4710                                  1884   \n",
       "3                             3884                                   971   \n",
       "4                             1101                                   385   \n",
       "..                             ...                                   ...   \n",
       "155                           1121                                   392   \n",
       "156                           4896                                  1860   \n",
       "157                           3602                                   792   \n",
       "158                           1130                                   418   \n",
       "159                           4965                                  2234   \n",
       "\n",
       "     % Desperdicio  Piezas por día  Unnamed: 9  Unnamed: 10  \n",
       "0         0.240011            3500         NaN          NaN  \n",
       "1         0.339831            1200         NaN          NaN  \n",
       "2         0.400000            5000         NaN          NaN  \n",
       "3         0.250000            3500         NaN          NaN  \n",
       "4         0.349682            1200         NaN          NaN  \n",
       "..             ...             ...         ...          ...  \n",
       "155       0.349688            1200         NaN          NaN  \n",
       "156       0.379902            5000         NaN          NaN  \n",
       "157       0.219878            3500         NaN          NaN  \n",
       "158       0.369912            1200         NaN          NaN  \n",
       "159       0.449950            5000         NaN          NaN  \n",
       "\n",
       "[160 rows x 11 columns]"
      ]
     },
     "execution_count": 7,
     "metadata": {},
     "output_type": "execute_result"
    }
   ],
   "source": [
    "df=pd.read_excel('datasets/Base de Datos SP.xlsx',\n",
    "               sheet_name='Base de Datos SP',\n",
    "               engine='openpyxl'\n",
    "              )\n",
    "df"
   ]
  },
  {
   "cell_type": "code",
   "execution_count": 8,
   "metadata": {},
   "outputs": [
    {
     "data": {
      "text/plain": [
       "Index(['Día', 'Producto', 'Turno', 'Línea de \\nproducción', 'Proceso',\n",
       "       'Kg de materia prima utilizada', 'Kg de producto terminado que se tira',\n",
       "       '% Desperdicio', 'Piezas por día', 'Unnamed: 9', 'Unnamed: 10'],\n",
       "      dtype='object')"
      ]
     },
     "execution_count": 8,
     "metadata": {},
     "output_type": "execute_result"
    }
   ],
   "source": [
    "df.columns"
   ]
  },
  {
   "cell_type": "code",
   "execution_count": 9,
   "metadata": {},
   "outputs": [
    {
     "data": {
      "text/html": [
       "<div>\n",
       "<style scoped>\n",
       "    .dataframe tbody tr th:only-of-type {\n",
       "        vertical-align: middle;\n",
       "    }\n",
       "\n",
       "    .dataframe tbody tr th {\n",
       "        vertical-align: top;\n",
       "    }\n",
       "\n",
       "    .dataframe thead th {\n",
       "        text-align: right;\n",
       "    }\n",
       "</style>\n",
       "<table border=\"1\" class=\"dataframe\">\n",
       "  <thead>\n",
       "    <tr style=\"text-align: right;\">\n",
       "      <th></th>\n",
       "      <th>Día</th>\n",
       "      <th>Producto</th>\n",
       "      <th>Turno</th>\n",
       "      <th>Línea de \\nproducción</th>\n",
       "      <th>Proceso</th>\n",
       "      <th>Kg de materia prima utilizada</th>\n",
       "      <th>Kg de producto terminado que se tira</th>\n",
       "      <th>% Desperdicio</th>\n",
       "      <th>Piezas por día</th>\n",
       "    </tr>\n",
       "  </thead>\n",
       "  <tbody>\n",
       "    <tr>\n",
       "      <th>0</th>\n",
       "      <td>2020-10-10</td>\n",
       "      <td>A</td>\n",
       "      <td>Matutino</td>\n",
       "      <td>3</td>\n",
       "      <td>Extrusión</td>\n",
       "      <td>3604</td>\n",
       "      <td>865</td>\n",
       "      <td>0.240011</td>\n",
       "      <td>3500</td>\n",
       "    </tr>\n",
       "    <tr>\n",
       "      <th>1</th>\n",
       "      <td>2020-10-10</td>\n",
       "      <td>C</td>\n",
       "      <td>Vespertino</td>\n",
       "      <td>3</td>\n",
       "      <td>Moldeo</td>\n",
       "      <td>1180</td>\n",
       "      <td>401</td>\n",
       "      <td>0.339831</td>\n",
       "      <td>1200</td>\n",
       "    </tr>\n",
       "    <tr>\n",
       "      <th>2</th>\n",
       "      <td>2020-10-10</td>\n",
       "      <td>B</td>\n",
       "      <td>Vespertino</td>\n",
       "      <td>2</td>\n",
       "      <td>Inyección</td>\n",
       "      <td>4710</td>\n",
       "      <td>1884</td>\n",
       "      <td>0.400000</td>\n",
       "      <td>5000</td>\n",
       "    </tr>\n",
       "    <tr>\n",
       "      <th>3</th>\n",
       "      <td>2020-10-10</td>\n",
       "      <td>A</td>\n",
       "      <td>Matutino</td>\n",
       "      <td>3</td>\n",
       "      <td>Extrusión</td>\n",
       "      <td>3884</td>\n",
       "      <td>971</td>\n",
       "      <td>0.250000</td>\n",
       "      <td>3500</td>\n",
       "    </tr>\n",
       "    <tr>\n",
       "      <th>4</th>\n",
       "      <td>2020-10-10</td>\n",
       "      <td>C</td>\n",
       "      <td>Vespertino</td>\n",
       "      <td>3</td>\n",
       "      <td>Moldeo</td>\n",
       "      <td>1101</td>\n",
       "      <td>385</td>\n",
       "      <td>0.349682</td>\n",
       "      <td>1200</td>\n",
       "    </tr>\n",
       "    <tr>\n",
       "      <th>...</th>\n",
       "      <td>...</td>\n",
       "      <td>...</td>\n",
       "      <td>...</td>\n",
       "      <td>...</td>\n",
       "      <td>...</td>\n",
       "      <td>...</td>\n",
       "      <td>...</td>\n",
       "      <td>...</td>\n",
       "      <td>...</td>\n",
       "    </tr>\n",
       "    <tr>\n",
       "      <th>155</th>\n",
       "      <td>2020-11-29</td>\n",
       "      <td>C</td>\n",
       "      <td>Vespertino</td>\n",
       "      <td>3</td>\n",
       "      <td>Moldeo</td>\n",
       "      <td>1121</td>\n",
       "      <td>392</td>\n",
       "      <td>0.349688</td>\n",
       "      <td>1200</td>\n",
       "    </tr>\n",
       "    <tr>\n",
       "      <th>156</th>\n",
       "      <td>2020-11-29</td>\n",
       "      <td>B</td>\n",
       "      <td>Vespertino</td>\n",
       "      <td>2</td>\n",
       "      <td>Inyección</td>\n",
       "      <td>4896</td>\n",
       "      <td>1860</td>\n",
       "      <td>0.379902</td>\n",
       "      <td>5000</td>\n",
       "    </tr>\n",
       "    <tr>\n",
       "      <th>157</th>\n",
       "      <td>2020-11-30</td>\n",
       "      <td>A</td>\n",
       "      <td>Matutino</td>\n",
       "      <td>3</td>\n",
       "      <td>Extrusión</td>\n",
       "      <td>3602</td>\n",
       "      <td>792</td>\n",
       "      <td>0.219878</td>\n",
       "      <td>3500</td>\n",
       "    </tr>\n",
       "    <tr>\n",
       "      <th>158</th>\n",
       "      <td>2020-11-30</td>\n",
       "      <td>C</td>\n",
       "      <td>Vespertino</td>\n",
       "      <td>3</td>\n",
       "      <td>Moldeo</td>\n",
       "      <td>1130</td>\n",
       "      <td>418</td>\n",
       "      <td>0.369912</td>\n",
       "      <td>1200</td>\n",
       "    </tr>\n",
       "    <tr>\n",
       "      <th>159</th>\n",
       "      <td>2020-11-30</td>\n",
       "      <td>B</td>\n",
       "      <td>Vespertino</td>\n",
       "      <td>2</td>\n",
       "      <td>Inyección</td>\n",
       "      <td>4965</td>\n",
       "      <td>2234</td>\n",
       "      <td>0.449950</td>\n",
       "      <td>5000</td>\n",
       "    </tr>\n",
       "  </tbody>\n",
       "</table>\n",
       "<p>160 rows × 9 columns</p>\n",
       "</div>"
      ],
      "text/plain": [
       "           Día Producto       Turno  Línea de \\nproducción    Proceso  \\\n",
       "0   2020-10-10        A    Matutino                      3  Extrusión   \n",
       "1   2020-10-10        C  Vespertino                      3     Moldeo   \n",
       "2   2020-10-10        B  Vespertino                      2  Inyección   \n",
       "3   2020-10-10        A    Matutino                      3  Extrusión   \n",
       "4   2020-10-10        C  Vespertino                      3     Moldeo   \n",
       "..         ...      ...         ...                    ...        ...   \n",
       "155 2020-11-29        C  Vespertino                      3     Moldeo   \n",
       "156 2020-11-29        B  Vespertino                      2  Inyección   \n",
       "157 2020-11-30        A    Matutino                      3  Extrusión   \n",
       "158 2020-11-30        C  Vespertino                      3     Moldeo   \n",
       "159 2020-11-30        B  Vespertino                      2  Inyección   \n",
       "\n",
       "     Kg de materia prima utilizada  Kg de producto terminado que se tira  \\\n",
       "0                             3604                                   865   \n",
       "1                             1180                                   401   \n",
       "2                             4710                                  1884   \n",
       "3                             3884                                   971   \n",
       "4                             1101                                   385   \n",
       "..                             ...                                   ...   \n",
       "155                           1121                                   392   \n",
       "156                           4896                                  1860   \n",
       "157                           3602                                   792   \n",
       "158                           1130                                   418   \n",
       "159                           4965                                  2234   \n",
       "\n",
       "     % Desperdicio  Piezas por día  \n",
       "0         0.240011            3500  \n",
       "1         0.339831            1200  \n",
       "2         0.400000            5000  \n",
       "3         0.250000            3500  \n",
       "4         0.349682            1200  \n",
       "..             ...             ...  \n",
       "155       0.349688            1200  \n",
       "156       0.379902            5000  \n",
       "157       0.219878            3500  \n",
       "158       0.369912            1200  \n",
       "159       0.449950            5000  \n",
       "\n",
       "[160 rows x 9 columns]"
      ]
     },
     "execution_count": 9,
     "metadata": {},
     "output_type": "execute_result"
    }
   ],
   "source": [
    "ndf = df[['Día', 'Producto', 'Turno', 'Línea de \\nproducción', 'Proceso',\n",
    "       'Kg de materia prima utilizada', 'Kg de producto terminado que se tira',\n",
    "       '% Desperdicio', 'Piezas por día']]\n",
    "ndf"
   ]
  },
  {
   "cell_type": "code",
   "execution_count": 10,
   "metadata": {
    "scrolled": true
   },
   "outputs": [
    {
     "data": {
      "text/html": [
       "<div>\n",
       "<style scoped>\n",
       "    .dataframe tbody tr th:only-of-type {\n",
       "        vertical-align: middle;\n",
       "    }\n",
       "\n",
       "    .dataframe tbody tr th {\n",
       "        vertical-align: top;\n",
       "    }\n",
       "\n",
       "    .dataframe thead th {\n",
       "        text-align: right;\n",
       "    }\n",
       "</style>\n",
       "<table border=\"1\" class=\"dataframe\">\n",
       "  <thead>\n",
       "    <tr style=\"text-align: right;\">\n",
       "      <th></th>\n",
       "      <th>Día</th>\n",
       "      <th>Producto</th>\n",
       "      <th>Turno</th>\n",
       "      <th>Línea de \\nproducción</th>\n",
       "      <th>Proceso</th>\n",
       "      <th>Kg de materia prima utilizada</th>\n",
       "      <th>Kg de producto terminado que se tira</th>\n",
       "      <th>% Desperdicio</th>\n",
       "      <th>Piezas por día</th>\n",
       "    </tr>\n",
       "  </thead>\n",
       "  <tbody>\n",
       "    <tr>\n",
       "      <th>0</th>\n",
       "      <td>2020-10-10</td>\n",
       "      <td>A</td>\n",
       "      <td>Matutino</td>\n",
       "      <td>3</td>\n",
       "      <td>Extrusión</td>\n",
       "      <td>3604</td>\n",
       "      <td>865</td>\n",
       "      <td>0.240011</td>\n",
       "      <td>3500</td>\n",
       "    </tr>\n",
       "    <tr>\n",
       "      <th>1</th>\n",
       "      <td>2020-10-10</td>\n",
       "      <td>C</td>\n",
       "      <td>Vespertino</td>\n",
       "      <td>3</td>\n",
       "      <td>Moldeo</td>\n",
       "      <td>1180</td>\n",
       "      <td>401</td>\n",
       "      <td>0.339831</td>\n",
       "      <td>1200</td>\n",
       "    </tr>\n",
       "    <tr>\n",
       "      <th>2</th>\n",
       "      <td>2020-10-10</td>\n",
       "      <td>B</td>\n",
       "      <td>Vespertino</td>\n",
       "      <td>2</td>\n",
       "      <td>Inyección</td>\n",
       "      <td>4710</td>\n",
       "      <td>1884</td>\n",
       "      <td>0.400000</td>\n",
       "      <td>5000</td>\n",
       "    </tr>\n",
       "    <tr>\n",
       "      <th>3</th>\n",
       "      <td>2020-10-10</td>\n",
       "      <td>A</td>\n",
       "      <td>Matutino</td>\n",
       "      <td>3</td>\n",
       "      <td>Extrusión</td>\n",
       "      <td>3884</td>\n",
       "      <td>971</td>\n",
       "      <td>0.250000</td>\n",
       "      <td>3500</td>\n",
       "    </tr>\n",
       "    <tr>\n",
       "      <th>4</th>\n",
       "      <td>2020-10-10</td>\n",
       "      <td>C</td>\n",
       "      <td>Vespertino</td>\n",
       "      <td>3</td>\n",
       "      <td>Moldeo</td>\n",
       "      <td>1101</td>\n",
       "      <td>385</td>\n",
       "      <td>0.349682</td>\n",
       "      <td>1200</td>\n",
       "    </tr>\n",
       "    <tr>\n",
       "      <th>...</th>\n",
       "      <td>...</td>\n",
       "      <td>...</td>\n",
       "      <td>...</td>\n",
       "      <td>...</td>\n",
       "      <td>...</td>\n",
       "      <td>...</td>\n",
       "      <td>...</td>\n",
       "      <td>...</td>\n",
       "      <td>...</td>\n",
       "    </tr>\n",
       "    <tr>\n",
       "      <th>155</th>\n",
       "      <td>2020-11-29</td>\n",
       "      <td>C</td>\n",
       "      <td>Vespertino</td>\n",
       "      <td>3</td>\n",
       "      <td>Moldeo</td>\n",
       "      <td>1121</td>\n",
       "      <td>392</td>\n",
       "      <td>0.349688</td>\n",
       "      <td>1200</td>\n",
       "    </tr>\n",
       "    <tr>\n",
       "      <th>156</th>\n",
       "      <td>2020-11-29</td>\n",
       "      <td>B</td>\n",
       "      <td>Vespertino</td>\n",
       "      <td>2</td>\n",
       "      <td>Inyección</td>\n",
       "      <td>4896</td>\n",
       "      <td>1860</td>\n",
       "      <td>0.379902</td>\n",
       "      <td>5000</td>\n",
       "    </tr>\n",
       "    <tr>\n",
       "      <th>157</th>\n",
       "      <td>2020-11-30</td>\n",
       "      <td>A</td>\n",
       "      <td>Matutino</td>\n",
       "      <td>3</td>\n",
       "      <td>Extrusión</td>\n",
       "      <td>3602</td>\n",
       "      <td>792</td>\n",
       "      <td>0.219878</td>\n",
       "      <td>3500</td>\n",
       "    </tr>\n",
       "    <tr>\n",
       "      <th>158</th>\n",
       "      <td>2020-11-30</td>\n",
       "      <td>C</td>\n",
       "      <td>Vespertino</td>\n",
       "      <td>3</td>\n",
       "      <td>Moldeo</td>\n",
       "      <td>1130</td>\n",
       "      <td>418</td>\n",
       "      <td>0.369912</td>\n",
       "      <td>1200</td>\n",
       "    </tr>\n",
       "    <tr>\n",
       "      <th>159</th>\n",
       "      <td>2020-11-30</td>\n",
       "      <td>B</td>\n",
       "      <td>Vespertino</td>\n",
       "      <td>2</td>\n",
       "      <td>Inyección</td>\n",
       "      <td>4965</td>\n",
       "      <td>2234</td>\n",
       "      <td>0.449950</td>\n",
       "      <td>5000</td>\n",
       "    </tr>\n",
       "  </tbody>\n",
       "</table>\n",
       "<p>160 rows × 9 columns</p>\n",
       "</div>"
      ],
      "text/plain": [
       "           Día Producto       Turno  Línea de \\nproducción    Proceso  \\\n",
       "0   2020-10-10        A    Matutino                      3  Extrusión   \n",
       "1   2020-10-10        C  Vespertino                      3     Moldeo   \n",
       "2   2020-10-10        B  Vespertino                      2  Inyección   \n",
       "3   2020-10-10        A    Matutino                      3  Extrusión   \n",
       "4   2020-10-10        C  Vespertino                      3     Moldeo   \n",
       "..         ...      ...         ...                    ...        ...   \n",
       "155 2020-11-29        C  Vespertino                      3     Moldeo   \n",
       "156 2020-11-29        B  Vespertino                      2  Inyección   \n",
       "157 2020-11-30        A    Matutino                      3  Extrusión   \n",
       "158 2020-11-30        C  Vespertino                      3     Moldeo   \n",
       "159 2020-11-30        B  Vespertino                      2  Inyección   \n",
       "\n",
       "     Kg de materia prima utilizada  Kg de producto terminado que se tira  \\\n",
       "0                             3604                                   865   \n",
       "1                             1180                                   401   \n",
       "2                             4710                                  1884   \n",
       "3                             3884                                   971   \n",
       "4                             1101                                   385   \n",
       "..                             ...                                   ...   \n",
       "155                           1121                                   392   \n",
       "156                           4896                                  1860   \n",
       "157                           3602                                   792   \n",
       "158                           1130                                   418   \n",
       "159                           4965                                  2234   \n",
       "\n",
       "     % Desperdicio  Piezas por día  \n",
       "0         0.240011            3500  \n",
       "1         0.339831            1200  \n",
       "2         0.400000            5000  \n",
       "3         0.250000            3500  \n",
       "4         0.349682            1200  \n",
       "..             ...             ...  \n",
       "155       0.349688            1200  \n",
       "156       0.379902            5000  \n",
       "157       0.219878            3500  \n",
       "158       0.369912            1200  \n",
       "159       0.449950            5000  \n",
       "\n",
       "[160 rows x 9 columns]"
      ]
     },
     "execution_count": 10,
     "metadata": {},
     "output_type": "execute_result"
    }
   ],
   "source": [
    "df = ndf\n",
    "df"
   ]
  },
  {
   "cell_type": "markdown",
   "metadata": {},
   "source": [
    "#### Conclusiones\n",
    "\n",
    "La base de datos nos proporciona información de la empresa de Polímeros PR S.A. de C.V., la cual se dedica a producir diversos productos manufacturados principalmente de plástico.\n",
    "En la base de datos se cuenta con 160 lecturas, en las que se toman en cuenta las variables en cuanto a el 'Día de la producción', 'El tipo de Producto', el 'Turno', la 'Línea de producción', el tipo de 'Proceso' que se llevó a cabo para fabricarlo, el 'Kg de la materia prima utilizadp', el 'Kg de producto terminado que se tira', el '% de Desperdicio' y las 'Piezas fabricadas por día'\n",
    "de cada producto.\n",
    "\n",
    "A partir de esto, la variable de interés a pronosticar es la de '% de Desperdicio' la cual describe el porcentaje de desperdicio que se genera en cada proceso en función de distintos factores como lo son: tipo de producto, Kg de materia prima utilizada, Kg de producto terminado que se tira, entre otras.\n",
    "\n",
    "Con este proyecto se espera poder determinar el porcentaje de desperdicio generado al realizar un modelo de regresión simple para identificar las variables que nos ayudarán a realizar el pronóstico."
   ]
  },
  {
   "cell_type": "markdown",
   "metadata": {},
   "source": [
    "**_- Gráfico de Dispersión de 'Kg de materia prima utilizada' vs '% Desperdicio'_**"
   ]
  },
  {
   "cell_type": "code",
   "execution_count": 11,
   "metadata": {},
   "outputs": [
    {
     "data": {
      "text/plain": [
       "Text(0.5, 1.0, 'Scatter plot of Kg de materia prima utilizada vs % Desperdicio')"
      ]
     },
     "execution_count": 11,
     "metadata": {},
     "output_type": "execute_result"
    },
    {
     "data": {
      "image/png": "[encoded data removed]",
      "text/plain": [
       "<Figure size 360x360 with 1 Axes>"
      ]
     },
     "metadata": {
      "needs_background": "light"
     },
     "output_type": "display_data"
    }
   ],
   "source": [
    "sns.lmplot(x='Kg de materia prima utilizada',\n",
    "          y='% Desperdicio',\n",
    "          data=df,\n",
    "          fit_reg=True,\n",
    "          )\n",
    "plt.title('Scatter plot of Kg de materia prima utilizada vs % Desperdicio')"
   ]
  },
  {
   "cell_type": "code",
   "execution_count": 12,
   "metadata": {},
   "outputs": [
    {
     "data": {
      "text/plain": [
       "Text(0.5, 1.0, 'Scatter plot of Kg de producto terminado que se tira vs % Desperdicio')"
      ]
     },
     "execution_count": 12,
     "metadata": {},
     "output_type": "execute_result"
    },
    {
     "data": {
      "image/png": "[encoded data removed]",
      "text/plain": [
       "<Figure size 360x360 with 1 Axes>"
      ]
     },
     "metadata": {
      "needs_background": "light"
     },
     "output_type": "display_data"
    }
   ],
   "source": [
    "sns.lmplot(x='Kg de producto terminado que se tira',\n",
    "          y='% Desperdicio',\n",
    "          data=df,\n",
    "          fit_reg=True,\n",
    "          )\n",
    "plt.title('Scatter plot of Kg de producto terminado que se tira vs % Desperdicio')"
   ]
  },
  {
   "cell_type": "markdown",
   "metadata": {},
   "source": [
    "#### Conclusiones\n",
    "\n",
    "Se realizó un gráfico de dispersión para conocer la intensidad de la relación entre dos variables numéricas y de qué manera afectan las variables independientes a la variable dependiente. El eje X representa la variable independiente, la cual en este caso sería la del 'Kg de materia prima utilizada' para la primera gráfica y 'Kg de producto terminado que se tira' para la segunda gráfica, mientras que el eje Y representa la variable dependiente, la cual en este caso sería la de '% de Desperdicio'.\n",
    "\n",
    "Con este primer análisis se puede llegar a la conclusión de que la variable de 'Kg de producto terminado que se tira' es la que tiene un mayor nivel de relevancia sobre la variable de '% de Desperdicio%' pues es la que más le afecta, ya que se observa que es la que cuenta con un nivel de correlación positivo, sin embargo no es muy alto, por lo tanto se realizarán más pruebas para determinar qué tanto afecta a la variable de interés."
   ]
  },
  {
   "cell_type": "markdown",
   "metadata": {},
   "source": [
    "## 2. ¿Cuántas variables hay y de qué tipos son?, ¿Por qué es importante conocer esta información?"
   ]
  },
  {
   "cell_type": "markdown",
   "metadata": {},
   "source": [
    "**_- Información del tipo de las variables_**"
   ]
  },
  {
   "cell_type": "code",
   "execution_count": 13,
   "metadata": {},
   "outputs": [
    {
     "name": "stdout",
     "output_type": "stream",
     "text": [
      "<class 'pandas.core.frame.DataFrame'>\n",
      "RangeIndex: 160 entries, 0 to 159\n",
      "Data columns (total 9 columns):\n",
      " #   Column                                Non-Null Count  Dtype         \n",
      "---  ------                                --------------  -----         \n",
      " 0   Día                                   160 non-null    datetime64[ns]\n",
      " 1   Producto                              160 non-null    object        \n",
      " 2   Turno                                 160 non-null    object        \n",
      " 3   Línea de \n",
      "producción                  160 non-null    int64         \n",
      " 4   Proceso                               160 non-null    object        \n",
      " 5   Kg de materia prima utilizada         160 non-null    int64         \n",
      " 6   Kg de producto terminado que se tira  160 non-null    int64         \n",
      " 7   % Desperdicio                         160 non-null    float64       \n",
      " 8   Piezas por día                        160 non-null    int64         \n",
      "dtypes: datetime64[ns](1), float64(1), int64(4), object(3)\n",
      "memory usage: 11.4+ KB\n"
     ]
    }
   ],
   "source": [
    "df.info(verbose=True)"
   ]
  },
  {
   "cell_type": "markdown",
   "metadata": {},
   "source": [
    "#### Conclusiones\n",
    "\n",
    "Lo primero a analizar son las dimensiones de la muestra: se cuenta con una cantidad de 9\n",
    "variables y 160 observaciones. \n",
    "\n",
    "De igual manera se identificaron los siguientes tipos variable: datatime (1) que es la de 'Día', float (1) que es justamenta la variable de interés '% de Desperdicio', int (4) que serían las de 'Línea de producción', 'Kg de materia prima utilizada', 'Kg de producto terminado que se tira', y 'Piezas por día', object (3) que serían las de 'Producto', 'Turno' y 'Proceso'. \n",
    "\n",
    "Por lo tanto se puede inferir que hay 4 variables continuas predictoras ('Día', 'Kg de materia prima utilizada', 'Kg de producto terminado que se tira' y '% de Desperdicio'), y 5 variables categóricas predictoras ('Producto', 'Turno', 'Línea de producción', 'Proceso' y 'Piezas por día'). \n",
    "\n",
    "Es importante saber esto para que el modelo de regresión admita variables de estos tipo, de lo contrario, y que se pueda generar la gráfica esperada."
   ]
  },
  {
   "cell_type": "markdown",
   "metadata": {},
   "source": [
    "## 3 ¿Qué distribución sigue la variable de interés ('% Desperdicio')?"
   ]
  },
  {
   "cell_type": "markdown",
   "metadata": {},
   "source": [
    "**_- Información de la distribución de las variables_**"
   ]
  },
  {
   "cell_type": "code",
   "execution_count": 14,
   "metadata": {
    "scrolled": true
   },
   "outputs": [
    {
     "data": {
      "text/html": [
       "<div>\n",
       "<style scoped>\n",
       "    .dataframe tbody tr th:only-of-type {\n",
       "        vertical-align: middle;\n",
       "    }\n",
       "\n",
       "    .dataframe tbody tr th {\n",
       "        vertical-align: top;\n",
       "    }\n",
       "\n",
       "    .dataframe thead th {\n",
       "        text-align: right;\n",
       "    }\n",
       "</style>\n",
       "<table border=\"1\" class=\"dataframe\">\n",
       "  <thead>\n",
       "    <tr style=\"text-align: right;\">\n",
       "      <th></th>\n",
       "      <th>Línea de \\nproducción</th>\n",
       "      <th>Kg de materia prima utilizada</th>\n",
       "      <th>Kg de producto terminado que se tira</th>\n",
       "      <th>% Desperdicio</th>\n",
       "      <th>Piezas por día</th>\n",
       "    </tr>\n",
       "  </thead>\n",
       "  <tbody>\n",
       "    <tr>\n",
       "      <th>count</th>\n",
       "      <td>160.000000</td>\n",
       "      <td>160.00000</td>\n",
       "      <td>160.000000</td>\n",
       "      <td>160.000000</td>\n",
       "      <td>160.000000</td>\n",
       "    </tr>\n",
       "    <tr>\n",
       "      <th>mean</th>\n",
       "      <td>2.668750</td>\n",
       "      <td>4552.09375</td>\n",
       "      <td>1068.887500</td>\n",
       "      <td>0.320820</td>\n",
       "      <td>3220.625000</td>\n",
       "    </tr>\n",
       "    <tr>\n",
       "      <th>std</th>\n",
       "      <td>0.472141</td>\n",
       "      <td>11609.68623</td>\n",
       "      <td>735.706967</td>\n",
       "      <td>0.120930</td>\n",
       "      <td>1571.006843</td>\n",
       "    </tr>\n",
       "    <tr>\n",
       "      <th>min</th>\n",
       "      <td>2.000000</td>\n",
       "      <td>1100.00000</td>\n",
       "      <td>-369.000000</td>\n",
       "      <td>-0.320312</td>\n",
       "      <td>1200.000000</td>\n",
       "    </tr>\n",
       "    <tr>\n",
       "      <th>25%</th>\n",
       "      <td>2.000000</td>\n",
       "      <td>1233.75000</td>\n",
       "      <td>428.500000</td>\n",
       "      <td>0.250104</td>\n",
       "      <td>1200.000000</td>\n",
       "    </tr>\n",
       "    <tr>\n",
       "      <th>50%</th>\n",
       "      <td>3.000000</td>\n",
       "      <td>3578.50000</td>\n",
       "      <td>826.500000</td>\n",
       "      <td>0.339845</td>\n",
       "      <td>3500.000000</td>\n",
       "    </tr>\n",
       "    <tr>\n",
       "      <th>75%</th>\n",
       "      <td>3.000000</td>\n",
       "      <td>4711.25000</td>\n",
       "      <td>1818.500000</td>\n",
       "      <td>0.379918</td>\n",
       "      <td>5000.000000</td>\n",
       "    </tr>\n",
       "    <tr>\n",
       "      <th>max</th>\n",
       "      <td>3.000000</td>\n",
       "      <td>112100.00000</td>\n",
       "      <td>4800.000000</td>\n",
       "      <td>0.980392</td>\n",
       "      <td>5000.000000</td>\n",
       "    </tr>\n",
       "  </tbody>\n",
       "</table>\n",
       "</div>"
      ],
      "text/plain": [
       "       Línea de \\nproducción  Kg de materia prima utilizada  \\\n",
       "count             160.000000                      160.00000   \n",
       "mean                2.668750                     4552.09375   \n",
       "std                 0.472141                    11609.68623   \n",
       "min                 2.000000                     1100.00000   \n",
       "25%                 2.000000                     1233.75000   \n",
       "50%                 3.000000                     3578.50000   \n",
       "75%                 3.000000                     4711.25000   \n",
       "max                 3.000000                   112100.00000   \n",
       "\n",
       "       Kg de producto terminado que se tira  % Desperdicio  Piezas por día  \n",
       "count                            160.000000     160.000000      160.000000  \n",
       "mean                            1068.887500       0.320820     3220.625000  \n",
       "std                              735.706967       0.120930     1571.006843  \n",
       "min                             -369.000000      -0.320312     1200.000000  \n",
       "25%                              428.500000       0.250104     1200.000000  \n",
       "50%                              826.500000       0.339845     3500.000000  \n",
       "75%                             1818.500000       0.379918     5000.000000  \n",
       "max                             4800.000000       0.980392     5000.000000  "
      ]
     },
     "execution_count": 14,
     "metadata": {},
     "output_type": "execute_result"
    }
   ],
   "source": [
    "df.describe()"
   ]
  },
  {
   "cell_type": "markdown",
   "metadata": {},
   "source": [
    "#### Conclusiones\n",
    "\n",
    "A continuación se determinó la cantidad, la media, la desviación estándar, el percentil, y el valor mínimo y máximo de cada variable.\n",
    "\n",
    "La variable interés cuenta con 160 datos, una media de 0.320820, una desviación estándar de 0.120930, un valor mínimo de -0.320312, y un valor máximo de 0.980392, además de que ésta se encuentra en un rango entre (0,1), lo cual representa el porcentaje de aceptación del desperdicio (de 0% a 100%). Es en ese rango en el que se encontrará el pronóstico de regresión."
   ]
  },
  {
   "cell_type": "markdown",
   "metadata": {},
   "source": [
    "## 4. ¿Qué tipo de distribución sigue la variable de interés                                ('% Desperdicio')?"
   ]
  },
  {
   "cell_type": "markdown",
   "metadata": {},
   "source": [
    "**_- Histograma de la variable de interés '% Desperdicio'_**"
   ]
  },
  {
   "cell_type": "code",
   "execution_count": 15,
   "metadata": {},
   "outputs": [
    {
     "data": {
      "image/png": "[encoded data removed]",
      "text/plain": [
       "<Figure size 432x288 with 1 Axes>"
      ]
     },
     "metadata": {
      "needs_background": "light"
     },
     "output_type": "display_data"
    }
   ],
   "source": [
    "histogram = df['% Desperdicio'].plot(kind = 'hist')"
   ]
  },
  {
   "cell_type": "markdown",
   "metadata": {},
   "source": [
    "#### Conclusiones\n",
    "\n",
    "Se realizó un histograma de la variable de interés '% Desperdicio', dándonos como resultado el tipo de distribución de sus datos, del cual se puede observar que presenta valores atípicos. Esto se puede confirmar debido al patrón que se forma en la gráfica, que es de 2 largas barras en el centro muy alejadas de las demás, además de que no presenta la forma adecuada de tipo \"campana\" pero tampoco presenta asimetría."
   ]
  },
  {
   "cell_type": "markdown",
   "metadata": {},
   "source": [
    "## 5. ¿Cuál es la variable de mayor correlación con la variable de interés ('% Desperdicio')?"
   ]
  },
  {
   "cell_type": "markdown",
   "metadata": {},
   "source": [
    "**_- Matriz de correlación de todas las variables para conocer aquella de mayor interés para el modelo_**"
   ]
  },
  {
   "cell_type": "code",
   "execution_count": 16,
   "metadata": {},
   "outputs": [
    {
     "data": {
      "image/png": "[encoded data removed]",
      "text/plain": [
       "<Figure size 432x288 with 2 Axes>"
      ]
     },
     "metadata": {
      "needs_background": "light"
     },
     "output_type": "display_data"
    }
   ],
   "source": [
    "correlation_mat = df.corr()\n",
    "sns.heatmap(correlation_mat, annot = True)\n",
    "\n",
    "plt.show()"
   ]
  },
  {
   "cell_type": "code",
   "execution_count": 17,
   "metadata": {},
   "outputs": [
    {
     "data": {
      "text/html": [
       "<div>\n",
       "<style scoped>\n",
       "    .dataframe tbody tr th:only-of-type {\n",
       "        vertical-align: middle;\n",
       "    }\n",
       "\n",
       "    .dataframe tbody tr th {\n",
       "        vertical-align: top;\n",
       "    }\n",
       "\n",
       "    .dataframe thead th {\n",
       "        text-align: right;\n",
       "    }\n",
       "</style>\n",
       "<table border=\"1\" class=\"dataframe\">\n",
       "  <thead>\n",
       "    <tr style=\"text-align: right;\">\n",
       "      <th></th>\n",
       "      <th>Día</th>\n",
       "      <th>Producto</th>\n",
       "      <th>Turno</th>\n",
       "      <th>Línea de \\nproducción</th>\n",
       "      <th>Proceso</th>\n",
       "      <th>Kg de materia prima utilizada</th>\n",
       "      <th>Kg de producto terminado que se tira</th>\n",
       "      <th>% Desperdicio</th>\n",
       "      <th>Piezas por día</th>\n",
       "    </tr>\n",
       "  </thead>\n",
       "  <tbody>\n",
       "    <tr>\n",
       "      <th>0</th>\n",
       "      <td>2020-10-10</td>\n",
       "      <td>A</td>\n",
       "      <td>Matutino</td>\n",
       "      <td>3</td>\n",
       "      <td>Extrusión</td>\n",
       "      <td>3604</td>\n",
       "      <td>865</td>\n",
       "      <td>0.240011</td>\n",
       "      <td>3500</td>\n",
       "    </tr>\n",
       "    <tr>\n",
       "      <th>1</th>\n",
       "      <td>2020-10-10</td>\n",
       "      <td>C</td>\n",
       "      <td>Vespertino</td>\n",
       "      <td>3</td>\n",
       "      <td>Moldeo</td>\n",
       "      <td>1180</td>\n",
       "      <td>401</td>\n",
       "      <td>0.339831</td>\n",
       "      <td>1200</td>\n",
       "    </tr>\n",
       "    <tr>\n",
       "      <th>2</th>\n",
       "      <td>2020-10-10</td>\n",
       "      <td>B</td>\n",
       "      <td>Vespertino</td>\n",
       "      <td>2</td>\n",
       "      <td>Inyección</td>\n",
       "      <td>4710</td>\n",
       "      <td>1884</td>\n",
       "      <td>0.400000</td>\n",
       "      <td>5000</td>\n",
       "    </tr>\n",
       "    <tr>\n",
       "      <th>3</th>\n",
       "      <td>2020-10-10</td>\n",
       "      <td>A</td>\n",
       "      <td>Matutino</td>\n",
       "      <td>3</td>\n",
       "      <td>Extrusión</td>\n",
       "      <td>3884</td>\n",
       "      <td>971</td>\n",
       "      <td>0.250000</td>\n",
       "      <td>3500</td>\n",
       "    </tr>\n",
       "    <tr>\n",
       "      <th>4</th>\n",
       "      <td>2020-10-10</td>\n",
       "      <td>C</td>\n",
       "      <td>Vespertino</td>\n",
       "      <td>3</td>\n",
       "      <td>Moldeo</td>\n",
       "      <td>1101</td>\n",
       "      <td>385</td>\n",
       "      <td>0.349682</td>\n",
       "      <td>1200</td>\n",
       "    </tr>\n",
       "    <tr>\n",
       "      <th>...</th>\n",
       "      <td>...</td>\n",
       "      <td>...</td>\n",
       "      <td>...</td>\n",
       "      <td>...</td>\n",
       "      <td>...</td>\n",
       "      <td>...</td>\n",
       "      <td>...</td>\n",
       "      <td>...</td>\n",
       "      <td>...</td>\n",
       "    </tr>\n",
       "    <tr>\n",
       "      <th>155</th>\n",
       "      <td>2020-11-29</td>\n",
       "      <td>C</td>\n",
       "      <td>Vespertino</td>\n",
       "      <td>3</td>\n",
       "      <td>Moldeo</td>\n",
       "      <td>1121</td>\n",
       "      <td>392</td>\n",
       "      <td>0.349688</td>\n",
       "      <td>1200</td>\n",
       "    </tr>\n",
       "    <tr>\n",
       "      <th>156</th>\n",
       "      <td>2020-11-29</td>\n",
       "      <td>B</td>\n",
       "      <td>Vespertino</td>\n",
       "      <td>2</td>\n",
       "      <td>Inyección</td>\n",
       "      <td>4896</td>\n",
       "      <td>1860</td>\n",
       "      <td>0.379902</td>\n",
       "      <td>5000</td>\n",
       "    </tr>\n",
       "    <tr>\n",
       "      <th>157</th>\n",
       "      <td>2020-11-30</td>\n",
       "      <td>A</td>\n",
       "      <td>Matutino</td>\n",
       "      <td>3</td>\n",
       "      <td>Extrusión</td>\n",
       "      <td>3602</td>\n",
       "      <td>792</td>\n",
       "      <td>0.219878</td>\n",
       "      <td>3500</td>\n",
       "    </tr>\n",
       "    <tr>\n",
       "      <th>158</th>\n",
       "      <td>2020-11-30</td>\n",
       "      <td>C</td>\n",
       "      <td>Vespertino</td>\n",
       "      <td>3</td>\n",
       "      <td>Moldeo</td>\n",
       "      <td>1130</td>\n",
       "      <td>418</td>\n",
       "      <td>0.369912</td>\n",
       "      <td>1200</td>\n",
       "    </tr>\n",
       "    <tr>\n",
       "      <th>159</th>\n",
       "      <td>2020-11-30</td>\n",
       "      <td>B</td>\n",
       "      <td>Vespertino</td>\n",
       "      <td>2</td>\n",
       "      <td>Inyección</td>\n",
       "      <td>4965</td>\n",
       "      <td>2234</td>\n",
       "      <td>0.449950</td>\n",
       "      <td>5000</td>\n",
       "    </tr>\n",
       "  </tbody>\n",
       "</table>\n",
       "<p>160 rows × 9 columns</p>\n",
       "</div>"
      ],
      "text/plain": [
       "           Día Producto       Turno  Línea de \\nproducción    Proceso  \\\n",
       "0   2020-10-10        A    Matutino                      3  Extrusión   \n",
       "1   2020-10-10        C  Vespertino                      3     Moldeo   \n",
       "2   2020-10-10        B  Vespertino                      2  Inyección   \n",
       "3   2020-10-10        A    Matutino                      3  Extrusión   \n",
       "4   2020-10-10        C  Vespertino                      3     Moldeo   \n",
       "..         ...      ...         ...                    ...        ...   \n",
       "155 2020-11-29        C  Vespertino                      3     Moldeo   \n",
       "156 2020-11-29        B  Vespertino                      2  Inyección   \n",
       "157 2020-11-30        A    Matutino                      3  Extrusión   \n",
       "158 2020-11-30        C  Vespertino                      3     Moldeo   \n",
       "159 2020-11-30        B  Vespertino                      2  Inyección   \n",
       "\n",
       "     Kg de materia prima utilizada  Kg de producto terminado que se tira  \\\n",
       "0                             3604                                   865   \n",
       "1                             1180                                   401   \n",
       "2                             4710                                  1884   \n",
       "3                             3884                                   971   \n",
       "4                             1101                                   385   \n",
       "..                             ...                                   ...   \n",
       "155                           1121                                   392   \n",
       "156                           4896                                  1860   \n",
       "157                           3602                                   792   \n",
       "158                           1130                                   418   \n",
       "159                           4965                                  2234   \n",
       "\n",
       "     % Desperdicio  Piezas por día  \n",
       "0         0.240011            3500  \n",
       "1         0.339831            1200  \n",
       "2         0.400000            5000  \n",
       "3         0.250000            3500  \n",
       "4         0.349682            1200  \n",
       "..             ...             ...  \n",
       "155       0.349688            1200  \n",
       "156       0.379902            5000  \n",
       "157       0.219878            3500  \n",
       "158       0.369912            1200  \n",
       "159       0.449950            5000  \n",
       "\n",
       "[160 rows x 9 columns]"
      ]
     },
     "execution_count": 17,
     "metadata": {},
     "output_type": "execute_result"
    }
   ],
   "source": [
    "vars = ['Día', 'Producto', 'Turno', 'Línea de \\nproducción', 'Proceso',\n",
    "       'Kg de materia prima utilizada', 'Kg de producto terminado que se tira',\n",
    "       '% Desperdicio', 'Piezas por día']\n",
    "df = df[vars].dropna()\n",
    "df"
   ]
  },
  {
   "cell_type": "code",
   "execution_count": 18,
   "metadata": {},
   "outputs": [
    {
     "data": {
      "text/html": [
       "<div>\n",
       "<style scoped>\n",
       "    .dataframe tbody tr th:only-of-type {\n",
       "        vertical-align: middle;\n",
       "    }\n",
       "\n",
       "    .dataframe tbody tr th {\n",
       "        vertical-align: top;\n",
       "    }\n",
       "\n",
       "    .dataframe thead th {\n",
       "        text-align: right;\n",
       "    }\n",
       "</style>\n",
       "<table border=\"1\" class=\"dataframe\">\n",
       "  <thead>\n",
       "    <tr style=\"text-align: right;\">\n",
       "      <th></th>\n",
       "      <th>Línea de \\nproducción</th>\n",
       "      <th>Kg de materia prima utilizada</th>\n",
       "      <th>Kg de producto terminado que se tira</th>\n",
       "      <th>% Desperdicio</th>\n",
       "      <th>Piezas por día</th>\n",
       "    </tr>\n",
       "  </thead>\n",
       "  <tbody>\n",
       "    <tr>\n",
       "      <th>Línea de \\nproducción</th>\n",
       "      <td>1.000000</td>\n",
       "      <td>-0.131953</td>\n",
       "      <td>-0.855027</td>\n",
       "      <td>-0.400609</td>\n",
       "      <td>-0.799644</td>\n",
       "    </tr>\n",
       "    <tr>\n",
       "      <th>Kg de materia prima utilizada</th>\n",
       "      <td>-0.131953</td>\n",
       "      <td>1.000000</td>\n",
       "      <td>0.136484</td>\n",
       "      <td>-0.280620</td>\n",
       "      <td>0.115459</td>\n",
       "    </tr>\n",
       "    <tr>\n",
       "      <th>Kg de producto terminado que se tira</th>\n",
       "      <td>-0.855027</td>\n",
       "      <td>0.136484</td>\n",
       "      <td>1.000000</td>\n",
       "      <td>0.560424</td>\n",
       "      <td>0.835065</td>\n",
       "    </tr>\n",
       "    <tr>\n",
       "      <th>% Desperdicio</th>\n",
       "      <td>-0.400609</td>\n",
       "      <td>-0.280620</td>\n",
       "      <td>0.560424</td>\n",
       "      <td>1.000000</td>\n",
       "      <td>0.132872</td>\n",
       "    </tr>\n",
       "    <tr>\n",
       "      <th>Piezas por día</th>\n",
       "      <td>-0.799644</td>\n",
       "      <td>0.115459</td>\n",
       "      <td>0.835065</td>\n",
       "      <td>0.132872</td>\n",
       "      <td>1.000000</td>\n",
       "    </tr>\n",
       "  </tbody>\n",
       "</table>\n",
       "</div>"
      ],
      "text/plain": [
       "                                      Línea de \\nproducción  \\\n",
       "Línea de \\nproducción                              1.000000   \n",
       "Kg de materia prima utilizada                     -0.131953   \n",
       "Kg de producto terminado que se tira              -0.855027   \n",
       "% Desperdicio                                     -0.400609   \n",
       "Piezas por día                                    -0.799644   \n",
       "\n",
       "                                      Kg de materia prima utilizada  \\\n",
       "Línea de \\nproducción                                     -0.131953   \n",
       "Kg de materia prima utilizada                              1.000000   \n",
       "Kg de producto terminado que se tira                       0.136484   \n",
       "% Desperdicio                                             -0.280620   \n",
       "Piezas por día                                             0.115459   \n",
       "\n",
       "                                      Kg de producto terminado que se tira  \\\n",
       "Línea de \\nproducción                                            -0.855027   \n",
       "Kg de materia prima utilizada                                     0.136484   \n",
       "Kg de producto terminado que se tira                              1.000000   \n",
       "% Desperdicio                                                     0.560424   \n",
       "Piezas por día                                                    0.835065   \n",
       "\n",
       "                                      % Desperdicio  Piezas por día  \n",
       "Línea de \\nproducción                     -0.400609       -0.799644  \n",
       "Kg de materia prima utilizada             -0.280620        0.115459  \n",
       "Kg de producto terminado que se tira       0.560424        0.835065  \n",
       "% Desperdicio                              1.000000        0.132872  \n",
       "Piezas por día                             0.132872        1.000000  "
      ]
     },
     "execution_count": 18,
     "metadata": {},
     "output_type": "execute_result"
    }
   ],
   "source": [
    "df[vars].corr()"
   ]
  },
  {
   "cell_type": "markdown",
   "metadata": {},
   "source": [
    "#### Conclusiones\n",
    "\n",
    "Se realizaron las siguientes matrices de correlación para determinar la(s) variable(s) de mayor interés para el pronóstico del modelo. Al observar la matriz, se identificó que la variable de 'Kg de producto terminado que se tira' es la que tiene la relación más alta con la variable de interés '% Desperdicio', debido a que presenta uno de los valores más altos, cercanos a 1.0, que es de 0.56. Como dato extra se identificó que esta misma variable también es significativa para determinar las 'Piezas por día' acorde a su valoración de 0.84.\n",
    "\n",
    "La segunda variable de mayor interés para el modelo sería justamente la de 'Piezas por día' la cual describe las piezas fabricadas de cada producto por día. Esto se determinó debido a que es la que tiene el segundo valor más alto en relación con la variable de interés, que es de 0.13.\n"
   ]
  },
  {
   "cell_type": "markdown",
   "metadata": {},
   "source": [
    "## 6. ¿Cómo es la correlación existente entre la variable independiente 'Kg de producto terminado que se tira' y la variable dependiente '% Desperdicio'?"
   ]
  },
  {
   "cell_type": "markdown",
   "metadata": {},
   "source": [
    "**_- Diagramas para determinar la correlación entre la variable independiente más relevante para la variable dependiente o 'variable de interés'_**"
   ]
  },
  {
   "cell_type": "code",
   "execution_count": 19,
   "metadata": {},
   "outputs": [
    {
     "data": {
      "text/plain": [
       "Text(0.5, 1.0, 'Scatter plot of Kg de producto terminado que se tira vs % Desperdicio')"
      ]
     },
     "execution_count": 19,
     "metadata": {},
     "output_type": "execute_result"
    },
    {
     "data": {
      "image/png": "[encoded data removed]",
      "text/plain": [
       "<Figure size 411.875x360 with 1 Axes>"
      ]
     },
     "metadata": {
      "needs_background": "light"
     },
     "output_type": "display_data"
    }
   ],
   "source": [
    "sns.lmplot(x='Kg de producto terminado que se tira',\n",
    "           y='% Desperdicio',\n",
    "           data=df,\n",
    "           fit_reg=False,\n",
    "           hue= 'Producto'\n",
    "          )\n",
    "plt.title('Scatter plot of Kg de producto terminado que se tira vs % Desperdicio')"
   ]
  },
  {
   "cell_type": "code",
   "execution_count": 20,
   "metadata": {},
   "outputs": [
    {
     "data": {
      "text/plain": [
       "Text(0.5, 1.0, 'Swarmplot of Kg de producto terminado que se tira vs % Desperdicio')"
      ]
     },
     "execution_count": 20,
     "metadata": {},
     "output_type": "execute_result"
    },
    {
     "data": {
      "image/png": "[encoded data removed]",
      "text/plain": [
       "<Figure size 432x288 with 1 Axes>"
      ]
     },
     "metadata": {
      "needs_background": "light"
     },
     "output_type": "display_data"
    }
   ],
   "source": [
    "sns.swarmplot(x='Kg de producto terminado que se tira',\n",
    "              y='% Desperdicio',\n",
    "              data=df,\n",
    "             )\n",
    "plt.title('Swarmplot of Kg de producto terminado que se tira vs % Desperdicio')\n"
   ]
  },
  {
   "cell_type": "code",
   "execution_count": 21,
   "metadata": {},
   "outputs": [
    {
     "data": {
      "image/png": "[encoded data removed]",
      "text/plain": [
       "<Figure size 432x288 with 1 Axes>"
      ]
     },
     "metadata": {
      "needs_background": "light"
     },
     "output_type": "display_data"
    }
   ],
   "source": [
    "df.plot.scatter(x='Kg de producto terminado que se tira',\n",
    "                 y='% Desperdicio');"
   ]
  },
  {
   "cell_type": "code",
   "execution_count": 22,
   "metadata": {},
   "outputs": [
    {
     "data": {
      "text/plain": [
       "<matplotlib.axes._subplots.AxesSubplot at 0x7f3d35d043d0>"
      ]
     },
     "execution_count": 22,
     "metadata": {},
     "output_type": "execute_result"
    },
    {
     "data": {
      "image/png": "[encoded data removed]",
      "text/plain": [
       "<Figure size 432x288 with 1 Axes>"
      ]
     },
     "metadata": {
      "needs_background": "light"
     },
     "output_type": "display_data"
    }
   ],
   "source": [
    "sns.scatterplot(x='Kg de producto terminado que se tira',\n",
    "                y='% Desperdicio',\n",
    "                data=df)"
   ]
  },
  {
   "cell_type": "markdown",
   "metadata": {},
   "source": [
    "#### Conclusiones\n",
    "\n",
    "Se realizaron varias Scatter Plots, el primero también tomando en cuenta el tipo de Producto A, B o C, para dividir por categorías el porcentaje de desperdicio de acuerdo al Kg de producto terminado que se tira. De igual manera se sacó un Swarmplot para confirmar dentro de otras visualizaciones su correlación. La cual basicamente nos indica que tiene una correlación positiva, puesto que a medida que aumenta el criterio 'Kg de producto terminado que se tira', aumenta el porcentaje de Desperdicio, ¿Esto qué signifca? Que entre más cantidad de kg de producto terminado que se tira por problemas de calidad, habrá un mayor porcentaje de desperdicio generado en cada proceso para los productos."
   ]
  },
  {
   "cell_type": "markdown",
   "metadata": {},
   "source": [
    "## 7.  ¿Existen valores atípicos en la variable independiente 'Kg de producto terminado que se tira'?"
   ]
  },
  {
   "cell_type": "markdown",
   "metadata": {},
   "source": [
    "**_- Box plot para identificar si existen valores atípicos_**"
   ]
  },
  {
   "cell_type": "code",
   "execution_count": 23,
   "metadata": {},
   "outputs": [
    {
     "data": {
      "text/plain": [
       "Text(0.5, 1.0, 'Datos atípicos en Kg de producto terminado que se tira')"
      ]
     },
     "execution_count": 23,
     "metadata": {},
     "output_type": "execute_result"
    },
    {
     "data": {
      "image/png": "[encoded data removed]",
      "text/plain": [
       "<Figure size 432x288 with 1 Axes>"
      ]
     },
     "metadata": {
      "needs_background": "light"
     },
     "output_type": "display_data"
    }
   ],
   "source": [
    "sns.boxplot(data=df['Kg de producto terminado que se tira'])\n",
    "plt.title('Datos atípicos en Kg de producto terminado que se tira')"
   ]
  },
  {
   "cell_type": "code",
   "execution_count": 24,
   "metadata": {},
   "outputs": [
    {
     "data": {
      "text/plain": [
       "Text(0.5, 1.0, 'Producto A Boxplot')"
      ]
     },
     "execution_count": 24,
     "metadata": {},
     "output_type": "execute_result"
    },
    {
     "data": {
      "image/png": "[encoded data removed]",
      "text/plain": [
       "<Figure size 432x288 with 1 Axes>"
      ]
     },
     "metadata": {
      "needs_background": "light"
     },
     "output_type": "display_data"
    }
   ],
   "source": [
    "sns.boxplot(data=df.loc[df['Producto']=='A',\n",
    "                        ['Kg de producto terminado que se tira','% Desperdicio']])\n",
    "plt.title('Producto A Boxplot')"
   ]
  },
  {
   "cell_type": "code",
   "execution_count": 25,
   "metadata": {},
   "outputs": [
    {
     "data": {
      "text/plain": [
       "Text(0.5, 1.0, 'Producto A Boxplot')"
      ]
     },
     "execution_count": 25,
     "metadata": {},
     "output_type": "execute_result"
    },
    {
     "data": {
      "image/png": "[encoded data removed]",
      "text/plain": [
       "<Figure size 432x288 with 1 Axes>"
      ]
     },
     "metadata": {
      "needs_background": "light"
     },
     "output_type": "display_data"
    }
   ],
   "source": [
    "sns.boxplot(data=df.loc[df['Producto']=='B',\n",
    "                        ['Kg de producto terminado que se tira','% Desperdicio']])\n",
    "plt.title('Producto A Boxplot')"
   ]
  },
  {
   "cell_type": "code",
   "execution_count": 26,
   "metadata": {},
   "outputs": [
    {
     "data": {
      "text/plain": [
       "Text(0.5, 1.0, 'Producto A Boxplot')"
      ]
     },
     "execution_count": 26,
     "metadata": {},
     "output_type": "execute_result"
    },
    {
     "data": {
      "image/png": "[encoded data removed]",
      "text/plain": [
       "<Figure size 432x288 with 1 Axes>"
      ]
     },
     "metadata": {
      "needs_background": "light"
     },
     "output_type": "display_data"
    }
   ],
   "source": [
    "sns.boxplot(data=df.loc[df['Producto']=='C',\n",
    "                        ['Kg de producto terminado que se tira','% Desperdicio']])\n",
    "plt.title('Producto A Boxplot')"
   ]
  },
  {
   "cell_type": "markdown",
   "metadata": {},
   "source": [
    "#### Conclusiones\n",
    "\n",
    "A partir de realizar los Box Plot de la variable independiente 'Kg de producto terminado que se tira' se observa la presencia de un sólo dato atípico, sin embargo, el índice de correlación sigue siendo bueno, tal vez no muy alto, pero es el más alto de todas las variables del estudio, y además está por encima de la mitad (0.56), por lo que se procede a realizar el análisis de regresión. \n",
    "\n",
    "Cabe recarlcar que es importante saber esto para mantener la confiabilidad del pronóstico."
   ]
  },
  {
   "cell_type": "markdown",
   "metadata": {},
   "source": [
    "## 8. ¿Qué tan bueno es el análisis de regresión para '% Desperdicio' en función de 'Kg de producto terminado que se tira'?, ¿Qué indica la R-cuadrada, los P-value de los parámetros B0 y B1 y el Durbin-Watson?"
   ]
  },
  {
   "cell_type": "markdown",
   "metadata": {},
   "source": [
    "**_- Análisis de regresión_**"
   ]
  },
  {
   "cell_type": "code",
   "execution_count": 34,
   "metadata": {
    "scrolled": true
   },
   "outputs": [
    {
     "ename": "AssertionError",
     "evalue": "",
     "output_type": "error",
     "traceback": [
      "\u001b[0;31m---------------------------------------------------------------------------\u001b[0m",
      "\u001b[0;31mAssertionError\u001b[0m                            Traceback (most recent call last)",
      "\u001b[0;32m/tmp/ipykernel_501/1316472501.py\u001b[0m in \u001b[0;36m<module>\u001b[0;34m\u001b[0m\n\u001b[0;32m----> 1\u001b[0;31m model = sm.OLS.from_formula ('% Desperdicio ~ Kg de producto terminado que se tira',\n\u001b[0m\u001b[1;32m      2\u001b[0m                             data = df)\n\u001b[1;32m      3\u001b[0m \u001b[0mresult\u001b[0m \u001b[0;34m=\u001b[0m \u001b[0mmodel\u001b[0m\u001b[0;34m.\u001b[0m\u001b[0mfit\u001b[0m\u001b[0;34m(\u001b[0m\u001b[0;34m)\u001b[0m\u001b[0;34m\u001b[0m\u001b[0;34m\u001b[0m\u001b[0m\n\u001b[1;32m      4\u001b[0m \u001b[0mresult\u001b[0m\u001b[0;34m.\u001b[0m\u001b[0msummary\u001b[0m\u001b[0;34m(\u001b[0m\u001b[0;34m)\u001b[0m\u001b[0;34m\u001b[0m\u001b[0;34m\u001b[0m\u001b[0m\n",
      "\u001b[0;32m/srv/conda/envs/notebook/lib/python3.8/site-packages/statsmodels/base/model.py\u001b[0m in \u001b[0;36mfrom_formula\u001b[0;34m(cls, formula, data, subset, drop_cols, *args, **kwargs)\u001b[0m\n\u001b[1;32m    198\u001b[0m             \u001b[0mmissing\u001b[0m \u001b[0;34m=\u001b[0m \u001b[0;34m'raise'\u001b[0m\u001b[0;34m\u001b[0m\u001b[0;34m\u001b[0m\u001b[0m\n\u001b[1;32m    199\u001b[0m \u001b[0;34m\u001b[0m\u001b[0m\n\u001b[0;32m--> 200\u001b[0;31m         tmp = handle_formula_data(data, None, formula, depth=eval_env,\n\u001b[0m\u001b[1;32m    201\u001b[0m                                   missing=missing)\n\u001b[1;32m    202\u001b[0m         \u001b[0;34m(\u001b[0m\u001b[0;34m(\u001b[0m\u001b[0mendog\u001b[0m\u001b[0;34m,\u001b[0m \u001b[0mexog\u001b[0m\u001b[0;34m)\u001b[0m\u001b[0;34m,\u001b[0m \u001b[0mmissing_idx\u001b[0m\u001b[0;34m,\u001b[0m \u001b[0mdesign_info\u001b[0m\u001b[0;34m)\u001b[0m \u001b[0;34m=\u001b[0m \u001b[0mtmp\u001b[0m\u001b[0;34m\u001b[0m\u001b[0;34m\u001b[0m\u001b[0m\n",
      "\u001b[0;32m/srv/conda/envs/notebook/lib/python3.8/site-packages/statsmodels/formula/formulatools.py\u001b[0m in \u001b[0;36mhandle_formula_data\u001b[0;34m(Y, X, formula, depth, missing)\u001b[0m\n\u001b[1;32m     61\u001b[0m     \u001b[0;32melse\u001b[0m\u001b[0;34m:\u001b[0m\u001b[0;34m\u001b[0m\u001b[0;34m\u001b[0m\u001b[0m\n\u001b[1;32m     62\u001b[0m         \u001b[0;32mif\u001b[0m \u001b[0mdata_util\u001b[0m\u001b[0;34m.\u001b[0m\u001b[0m_is_using_pandas\u001b[0m\u001b[0;34m(\u001b[0m\u001b[0mY\u001b[0m\u001b[0;34m,\u001b[0m \u001b[0;32mNone\u001b[0m\u001b[0;34m)\u001b[0m\u001b[0;34m:\u001b[0m\u001b[0;34m\u001b[0m\u001b[0;34m\u001b[0m\u001b[0m\n\u001b[0;32m---> 63\u001b[0;31m             result = dmatrices(formula, Y, depth, return_type='dataframe',\n\u001b[0m\u001b[1;32m     64\u001b[0m                                NA_action=na_action)\n\u001b[1;32m     65\u001b[0m         \u001b[0;32melse\u001b[0m\u001b[0;34m:\u001b[0m\u001b[0;34m\u001b[0m\u001b[0;34m\u001b[0m\u001b[0m\n",
      "\u001b[0;32m/srv/conda/envs/notebook/lib/python3.8/site-packages/patsy/highlevel.py\u001b[0m in \u001b[0;36mdmatrices\u001b[0;34m(formula_like, data, eval_env, NA_action, return_type)\u001b[0m\n\u001b[1;32m    307\u001b[0m     \"\"\"\n\u001b[1;32m    308\u001b[0m     \u001b[0meval_env\u001b[0m \u001b[0;34m=\u001b[0m \u001b[0mEvalEnvironment\u001b[0m\u001b[0;34m.\u001b[0m\u001b[0mcapture\u001b[0m\u001b[0;34m(\u001b[0m\u001b[0meval_env\u001b[0m\u001b[0;34m,\u001b[0m \u001b[0mreference\u001b[0m\u001b[0;34m=\u001b[0m\u001b[0;36m1\u001b[0m\u001b[0;34m)\u001b[0m\u001b[0;34m\u001b[0m\u001b[0;34m\u001b[0m\u001b[0m\n\u001b[0;32m--> 309\u001b[0;31m     (lhs, rhs) = _do_highlevel_design(formula_like, data, eval_env,\n\u001b[0m\u001b[1;32m    310\u001b[0m                                       NA_action, return_type)\n\u001b[1;32m    311\u001b[0m     \u001b[0;32mif\u001b[0m \u001b[0mlhs\u001b[0m\u001b[0;34m.\u001b[0m\u001b[0mshape\u001b[0m\u001b[0;34m[\u001b[0m\u001b[0;36m1\u001b[0m\u001b[0;34m]\u001b[0m \u001b[0;34m==\u001b[0m \u001b[0;36m0\u001b[0m\u001b[0;34m:\u001b[0m\u001b[0;34m\u001b[0m\u001b[0;34m\u001b[0m\u001b[0m\n",
      "\u001b[0;32m/srv/conda/envs/notebook/lib/python3.8/site-packages/patsy/highlevel.py\u001b[0m in \u001b[0;36m_do_highlevel_design\u001b[0;34m(formula_like, data, eval_env, NA_action, return_type)\u001b[0m\n\u001b[1;32m    162\u001b[0m     \u001b[0;32mdef\u001b[0m \u001b[0mdata_iter_maker\u001b[0m\u001b[0;34m(\u001b[0m\u001b[0;34m)\u001b[0m\u001b[0;34m:\u001b[0m\u001b[0;34m\u001b[0m\u001b[0;34m\u001b[0m\u001b[0m\n\u001b[1;32m    163\u001b[0m         \u001b[0;32mreturn\u001b[0m \u001b[0miter\u001b[0m\u001b[0;34m(\u001b[0m\u001b[0;34m[\u001b[0m\u001b[0mdata\u001b[0m\u001b[0;34m]\u001b[0m\u001b[0;34m)\u001b[0m\u001b[0;34m\u001b[0m\u001b[0;34m\u001b[0m\u001b[0m\n\u001b[0;32m--> 164\u001b[0;31m     design_infos = _try_incr_builders(formula_like, data_iter_maker, eval_env,\n\u001b[0m\u001b[1;32m    165\u001b[0m                                       NA_action)\n\u001b[1;32m    166\u001b[0m     \u001b[0;32mif\u001b[0m \u001b[0mdesign_infos\u001b[0m \u001b[0;32mis\u001b[0m \u001b[0;32mnot\u001b[0m \u001b[0;32mNone\u001b[0m\u001b[0;34m:\u001b[0m\u001b[0;34m\u001b[0m\u001b[0;34m\u001b[0m\u001b[0m\n",
      "\u001b[0;32m/srv/conda/envs/notebook/lib/python3.8/site-packages/patsy/highlevel.py\u001b[0m in \u001b[0;36m_try_incr_builders\u001b[0;34m(formula_like, data_iter_maker, eval_env, NA_action)\u001b[0m\n\u001b[1;32m     60\u001b[0m                 \"ascii-only, or else upgrade to Python 3.\")\n\u001b[1;32m     61\u001b[0m     \u001b[0;32mif\u001b[0m \u001b[0misinstance\u001b[0m\u001b[0;34m(\u001b[0m\u001b[0mformula_like\u001b[0m\u001b[0;34m,\u001b[0m \u001b[0mstr\u001b[0m\u001b[0;34m)\u001b[0m\u001b[0;34m:\u001b[0m\u001b[0;34m\u001b[0m\u001b[0;34m\u001b[0m\u001b[0m\n\u001b[0;32m---> 62\u001b[0;31m         \u001b[0mformula_like\u001b[0m \u001b[0;34m=\u001b[0m \u001b[0mModelDesc\u001b[0m\u001b[0;34m.\u001b[0m\u001b[0mfrom_formula\u001b[0m\u001b[0;34m(\u001b[0m\u001b[0mformula_like\u001b[0m\u001b[0;34m)\u001b[0m\u001b[0;34m\u001b[0m\u001b[0;34m\u001b[0m\u001b[0m\n\u001b[0m\u001b[1;32m     63\u001b[0m         \u001b[0;31m# fallthrough\u001b[0m\u001b[0;34m\u001b[0m\u001b[0;34m\u001b[0m\u001b[0;34m\u001b[0m\u001b[0m\n\u001b[1;32m     64\u001b[0m     \u001b[0;32mif\u001b[0m \u001b[0misinstance\u001b[0m\u001b[0;34m(\u001b[0m\u001b[0mformula_like\u001b[0m\u001b[0;34m,\u001b[0m \u001b[0mModelDesc\u001b[0m\u001b[0;34m)\u001b[0m\u001b[0;34m:\u001b[0m\u001b[0;34m\u001b[0m\u001b[0;34m\u001b[0m\u001b[0m\n",
      "\u001b[0;32m/srv/conda/envs/notebook/lib/python3.8/site-packages/patsy/desc.py\u001b[0m in \u001b[0;36mfrom_formula\u001b[0;34m(cls, tree_or_string)\u001b[0m\n\u001b[1;32m    163\u001b[0m         \u001b[0;32melse\u001b[0m\u001b[0;34m:\u001b[0m\u001b[0;34m\u001b[0m\u001b[0;34m\u001b[0m\u001b[0m\n\u001b[1;32m    164\u001b[0m             \u001b[0mtree\u001b[0m \u001b[0;34m=\u001b[0m \u001b[0mparse_formula\u001b[0m\u001b[0;34m(\u001b[0m\u001b[0mtree_or_string\u001b[0m\u001b[0;34m)\u001b[0m\u001b[0;34m\u001b[0m\u001b[0;34m\u001b[0m\u001b[0m\n\u001b[0;32m--> 165\u001b[0;31m         \u001b[0mvalue\u001b[0m \u001b[0;34m=\u001b[0m \u001b[0mEvaluator\u001b[0m\u001b[0;34m(\u001b[0m\u001b[0;34m)\u001b[0m\u001b[0;34m.\u001b[0m\u001b[0meval\u001b[0m\u001b[0;34m(\u001b[0m\u001b[0mtree\u001b[0m\u001b[0;34m,\u001b[0m \u001b[0mrequire_evalexpr\u001b[0m\u001b[0;34m=\u001b[0m\u001b[0;32mFalse\u001b[0m\u001b[0;34m)\u001b[0m\u001b[0;34m\u001b[0m\u001b[0;34m\u001b[0m\u001b[0m\n\u001b[0m\u001b[1;32m    166\u001b[0m         \u001b[0;32massert\u001b[0m \u001b[0misinstance\u001b[0m\u001b[0;34m(\u001b[0m\u001b[0mvalue\u001b[0m\u001b[0;34m,\u001b[0m \u001b[0mcls\u001b[0m\u001b[0;34m)\u001b[0m\u001b[0;34m\u001b[0m\u001b[0;34m\u001b[0m\u001b[0m\n\u001b[1;32m    167\u001b[0m         \u001b[0;32mreturn\u001b[0m \u001b[0mvalue\u001b[0m\u001b[0;34m\u001b[0m\u001b[0;34m\u001b[0m\u001b[0m\n",
      "\u001b[0;32m/srv/conda/envs/notebook/lib/python3.8/site-packages/patsy/desc.py\u001b[0m in \u001b[0;36meval\u001b[0;34m(self, tree, require_evalexpr)\u001b[0m\n\u001b[1;32m    398\u001b[0m                                 \u001b[0;34m\"'%s' operator\"\u001b[0m \u001b[0;34m%\u001b[0m \u001b[0;34m(\u001b[0m\u001b[0mtree\u001b[0m\u001b[0;34m.\u001b[0m\u001b[0mtype\u001b[0m\u001b[0;34m,\u001b[0m\u001b[0;34m)\u001b[0m\u001b[0;34m,\u001b[0m\u001b[0;34m\u001b[0m\u001b[0;34m\u001b[0m\u001b[0m\n\u001b[1;32m    399\u001b[0m                                 tree.token)\n\u001b[0;32m--> 400\u001b[0;31m         \u001b[0mresult\u001b[0m \u001b[0;34m=\u001b[0m \u001b[0mself\u001b[0m\u001b[0;34m.\u001b[0m\u001b[0m_evaluators\u001b[0m\u001b[0;34m[\u001b[0m\u001b[0mkey\u001b[0m\u001b[0;34m]\u001b[0m\u001b[0;34m(\u001b[0m\u001b[0mself\u001b[0m\u001b[0;34m,\u001b[0m \u001b[0mtree\u001b[0m\u001b[0;34m)\u001b[0m\u001b[0;34m\u001b[0m\u001b[0;34m\u001b[0m\u001b[0m\n\u001b[0m\u001b[1;32m    401\u001b[0m         \u001b[0;32mif\u001b[0m \u001b[0mrequire_evalexpr\u001b[0m \u001b[0;32mand\u001b[0m \u001b[0;32mnot\u001b[0m \u001b[0misinstance\u001b[0m\u001b[0;34m(\u001b[0m\u001b[0mresult\u001b[0m\u001b[0;34m,\u001b[0m \u001b[0mIntermediateExpr\u001b[0m\u001b[0;34m)\u001b[0m\u001b[0;34m:\u001b[0m\u001b[0;34m\u001b[0m\u001b[0;34m\u001b[0m\u001b[0m\n\u001b[1;32m    402\u001b[0m             \u001b[0;32mif\u001b[0m \u001b[0misinstance\u001b[0m\u001b[0;34m(\u001b[0m\u001b[0mresult\u001b[0m\u001b[0;34m,\u001b[0m \u001b[0mModelDesc\u001b[0m\u001b[0;34m)\u001b[0m\u001b[0;34m:\u001b[0m\u001b[0;34m\u001b[0m\u001b[0;34m\u001b[0m\u001b[0m\n",
      "\u001b[0;32m/srv/conda/envs/notebook/lib/python3.8/site-packages/patsy/desc.py\u001b[0m in \u001b[0;36m_eval_any_tilde\u001b[0;34m(evaluator, tree)\u001b[0m\n\u001b[1;32m    219\u001b[0m \u001b[0;34m\u001b[0m\u001b[0m\n\u001b[1;32m    220\u001b[0m \u001b[0;32mdef\u001b[0m \u001b[0m_eval_any_tilde\u001b[0m\u001b[0;34m(\u001b[0m\u001b[0mevaluator\u001b[0m\u001b[0;34m,\u001b[0m \u001b[0mtree\u001b[0m\u001b[0;34m)\u001b[0m\u001b[0;34m:\u001b[0m\u001b[0;34m\u001b[0m\u001b[0;34m\u001b[0m\u001b[0m\n\u001b[0;32m--> 221\u001b[0;31m     \u001b[0mexprs\u001b[0m \u001b[0;34m=\u001b[0m \u001b[0;34m[\u001b[0m\u001b[0mevaluator\u001b[0m\u001b[0;34m.\u001b[0m\u001b[0meval\u001b[0m\u001b[0;34m(\u001b[0m\u001b[0marg\u001b[0m\u001b[0;34m)\u001b[0m \u001b[0;32mfor\u001b[0m \u001b[0marg\u001b[0m \u001b[0;32min\u001b[0m \u001b[0mtree\u001b[0m\u001b[0;34m.\u001b[0m\u001b[0margs\u001b[0m\u001b[0;34m]\u001b[0m\u001b[0;34m\u001b[0m\u001b[0;34m\u001b[0m\u001b[0m\n\u001b[0m\u001b[1;32m    222\u001b[0m     \u001b[0;32mif\u001b[0m \u001b[0mlen\u001b[0m\u001b[0;34m(\u001b[0m\u001b[0mexprs\u001b[0m\u001b[0;34m)\u001b[0m \u001b[0;34m==\u001b[0m \u001b[0;36m1\u001b[0m\u001b[0;34m:\u001b[0m\u001b[0;34m\u001b[0m\u001b[0;34m\u001b[0m\u001b[0m\n\u001b[1;32m    223\u001b[0m         \u001b[0;31m# Formula was like: \"~ foo\"\u001b[0m\u001b[0;34m\u001b[0m\u001b[0;34m\u001b[0m\u001b[0;34m\u001b[0m\u001b[0m\n",
      "\u001b[0;32m/srv/conda/envs/notebook/lib/python3.8/site-packages/patsy/desc.py\u001b[0m in \u001b[0;36m<listcomp>\u001b[0;34m(.0)\u001b[0m\n\u001b[1;32m    219\u001b[0m \u001b[0;34m\u001b[0m\u001b[0m\n\u001b[1;32m    220\u001b[0m \u001b[0;32mdef\u001b[0m \u001b[0m_eval_any_tilde\u001b[0m\u001b[0;34m(\u001b[0m\u001b[0mevaluator\u001b[0m\u001b[0;34m,\u001b[0m \u001b[0mtree\u001b[0m\u001b[0;34m)\u001b[0m\u001b[0;34m:\u001b[0m\u001b[0;34m\u001b[0m\u001b[0;34m\u001b[0m\u001b[0m\n\u001b[0;32m--> 221\u001b[0;31m     \u001b[0mexprs\u001b[0m \u001b[0;34m=\u001b[0m \u001b[0;34m[\u001b[0m\u001b[0mevaluator\u001b[0m\u001b[0;34m.\u001b[0m\u001b[0meval\u001b[0m\u001b[0;34m(\u001b[0m\u001b[0marg\u001b[0m\u001b[0;34m)\u001b[0m \u001b[0;32mfor\u001b[0m \u001b[0marg\u001b[0m \u001b[0;32min\u001b[0m \u001b[0mtree\u001b[0m\u001b[0;34m.\u001b[0m\u001b[0margs\u001b[0m\u001b[0;34m]\u001b[0m\u001b[0;34m\u001b[0m\u001b[0;34m\u001b[0m\u001b[0m\n\u001b[0m\u001b[1;32m    222\u001b[0m     \u001b[0;32mif\u001b[0m \u001b[0mlen\u001b[0m\u001b[0;34m(\u001b[0m\u001b[0mexprs\u001b[0m\u001b[0;34m)\u001b[0m \u001b[0;34m==\u001b[0m \u001b[0;36m1\u001b[0m\u001b[0;34m:\u001b[0m\u001b[0;34m\u001b[0m\u001b[0;34m\u001b[0m\u001b[0m\n\u001b[1;32m    223\u001b[0m         \u001b[0;31m# Formula was like: \"~ foo\"\u001b[0m\u001b[0;34m\u001b[0m\u001b[0;34m\u001b[0m\u001b[0;34m\u001b[0m\u001b[0m\n",
      "\u001b[0;32m/srv/conda/envs/notebook/lib/python3.8/site-packages/patsy/desc.py\u001b[0m in \u001b[0;36meval\u001b[0;34m(self, tree, require_evalexpr)\u001b[0m\n\u001b[1;32m    398\u001b[0m                                 \u001b[0;34m\"'%s' operator\"\u001b[0m \u001b[0;34m%\u001b[0m \u001b[0;34m(\u001b[0m\u001b[0mtree\u001b[0m\u001b[0;34m.\u001b[0m\u001b[0mtype\u001b[0m\u001b[0;34m,\u001b[0m\u001b[0;34m)\u001b[0m\u001b[0;34m,\u001b[0m\u001b[0;34m\u001b[0m\u001b[0;34m\u001b[0m\u001b[0m\n\u001b[1;32m    399\u001b[0m                                 tree.token)\n\u001b[0;32m--> 400\u001b[0;31m         \u001b[0mresult\u001b[0m \u001b[0;34m=\u001b[0m \u001b[0mself\u001b[0m\u001b[0;34m.\u001b[0m\u001b[0m_evaluators\u001b[0m\u001b[0;34m[\u001b[0m\u001b[0mkey\u001b[0m\u001b[0;34m]\u001b[0m\u001b[0;34m(\u001b[0m\u001b[0mself\u001b[0m\u001b[0;34m,\u001b[0m \u001b[0mtree\u001b[0m\u001b[0;34m)\u001b[0m\u001b[0;34m\u001b[0m\u001b[0;34m\u001b[0m\u001b[0m\n\u001b[0m\u001b[1;32m    401\u001b[0m         \u001b[0;32mif\u001b[0m \u001b[0mrequire_evalexpr\u001b[0m \u001b[0;32mand\u001b[0m \u001b[0;32mnot\u001b[0m \u001b[0misinstance\u001b[0m\u001b[0;34m(\u001b[0m\u001b[0mresult\u001b[0m\u001b[0;34m,\u001b[0m \u001b[0mIntermediateExpr\u001b[0m\u001b[0;34m)\u001b[0m\u001b[0;34m:\u001b[0m\u001b[0;34m\u001b[0m\u001b[0;34m\u001b[0m\u001b[0m\n\u001b[1;32m    402\u001b[0m             \u001b[0;32mif\u001b[0m \u001b[0misinstance\u001b[0m\u001b[0;34m(\u001b[0m\u001b[0mresult\u001b[0m\u001b[0;34m,\u001b[0m \u001b[0mModelDesc\u001b[0m\u001b[0;34m)\u001b[0m\u001b[0;34m:\u001b[0m\u001b[0;34m\u001b[0m\u001b[0;34m\u001b[0m\u001b[0m\n",
      "\u001b[0;32m/srv/conda/envs/notebook/lib/python3.8/site-packages/patsy/desc.py\u001b[0m in \u001b[0;36m_eval_python_expr\u001b[0;34m(evaluator, tree)\u001b[0m\n\u001b[1;32m    356\u001b[0m \u001b[0;34m\u001b[0m\u001b[0m\n\u001b[1;32m    357\u001b[0m \u001b[0;32mdef\u001b[0m \u001b[0m_eval_python_expr\u001b[0m\u001b[0;34m(\u001b[0m\u001b[0mevaluator\u001b[0m\u001b[0;34m,\u001b[0m \u001b[0mtree\u001b[0m\u001b[0;34m)\u001b[0m\u001b[0;34m:\u001b[0m\u001b[0;34m\u001b[0m\u001b[0;34m\u001b[0m\u001b[0m\n\u001b[0;32m--> 358\u001b[0;31m     \u001b[0mfactor\u001b[0m \u001b[0;34m=\u001b[0m \u001b[0mEvalFactor\u001b[0m\u001b[0;34m(\u001b[0m\u001b[0mtree\u001b[0m\u001b[0;34m.\u001b[0m\u001b[0mtoken\u001b[0m\u001b[0;34m.\u001b[0m\u001b[0mextra\u001b[0m\u001b[0;34m,\u001b[0m \u001b[0morigin\u001b[0m\u001b[0;34m=\u001b[0m\u001b[0mtree\u001b[0m\u001b[0;34m.\u001b[0m\u001b[0morigin\u001b[0m\u001b[0;34m)\u001b[0m\u001b[0;34m\u001b[0m\u001b[0;34m\u001b[0m\u001b[0m\n\u001b[0m\u001b[1;32m    359\u001b[0m     \u001b[0;32mreturn\u001b[0m \u001b[0mIntermediateExpr\u001b[0m\u001b[0;34m(\u001b[0m\u001b[0;32mFalse\u001b[0m\u001b[0;34m,\u001b[0m \u001b[0;32mNone\u001b[0m\u001b[0;34m,\u001b[0m \u001b[0;32mFalse\u001b[0m\u001b[0;34m,\u001b[0m \u001b[0;34m[\u001b[0m\u001b[0mTerm\u001b[0m\u001b[0;34m(\u001b[0m\u001b[0;34m[\u001b[0m\u001b[0mfactor\u001b[0m\u001b[0;34m]\u001b[0m\u001b[0;34m)\u001b[0m\u001b[0;34m]\u001b[0m\u001b[0;34m)\u001b[0m\u001b[0;34m\u001b[0m\u001b[0;34m\u001b[0m\u001b[0m\n\u001b[1;32m    360\u001b[0m \u001b[0;34m\u001b[0m\u001b[0m\n",
      "\u001b[0;32m/srv/conda/envs/notebook/lib/python3.8/site-packages/patsy/eval.py\u001b[0m in \u001b[0;36m__init__\u001b[0;34m(self, code, origin)\u001b[0m\n\u001b[1;32m    446\u001b[0m         \u001b[0;31m# the parser. But let's normalize anyway, so we can be sure of having\u001b[0m\u001b[0;34m\u001b[0m\u001b[0;34m\u001b[0m\u001b[0;34m\u001b[0m\u001b[0m\n\u001b[1;32m    447\u001b[0m         \u001b[0;31m# consistent semantics for __eq__ and __hash__.\u001b[0m\u001b[0;34m\u001b[0m\u001b[0;34m\u001b[0m\u001b[0;34m\u001b[0m\u001b[0m\n\u001b[0;32m--> 448\u001b[0;31m         \u001b[0mself\u001b[0m\u001b[0;34m.\u001b[0m\u001b[0mcode\u001b[0m \u001b[0;34m=\u001b[0m \u001b[0mnormalize_token_spacing\u001b[0m\u001b[0;34m(\u001b[0m\u001b[0mcode\u001b[0m\u001b[0;34m)\u001b[0m\u001b[0;34m\u001b[0m\u001b[0;34m\u001b[0m\u001b[0m\n\u001b[0m\u001b[1;32m    449\u001b[0m         \u001b[0mself\u001b[0m\u001b[0;34m.\u001b[0m\u001b[0morigin\u001b[0m \u001b[0;34m=\u001b[0m \u001b[0morigin\u001b[0m\u001b[0;34m\u001b[0m\u001b[0;34m\u001b[0m\u001b[0m\n\u001b[1;32m    450\u001b[0m \u001b[0;34m\u001b[0m\u001b[0m\n",
      "\u001b[0;32m/srv/conda/envs/notebook/lib/python3.8/site-packages/patsy/tokens.py\u001b[0m in \u001b[0;36mnormalize_token_spacing\u001b[0;34m(code)\u001b[0m\n\u001b[1;32m    155\u001b[0m     tokens = [(t[0], t[1])\n\u001b[1;32m    156\u001b[0m               for t in tokenize.generate_tokens(StringIO(code).readline)]\n\u001b[0;32m--> 157\u001b[0;31m     \u001b[0;32mreturn\u001b[0m \u001b[0mpretty_untokenize\u001b[0m\u001b[0;34m(\u001b[0m\u001b[0mtokens\u001b[0m\u001b[0;34m)\u001b[0m\u001b[0;34m\u001b[0m\u001b[0;34m\u001b[0m\u001b[0m\n\u001b[0m\u001b[1;32m    158\u001b[0m \u001b[0;34m\u001b[0m\u001b[0m\n\u001b[1;32m    159\u001b[0m \u001b[0;32mdef\u001b[0m \u001b[0mtest_pretty_untokenize_and_normalize_token_spacing\u001b[0m\u001b[0;34m(\u001b[0m\u001b[0;34m)\u001b[0m\u001b[0;34m:\u001b[0m\u001b[0;34m\u001b[0m\u001b[0;34m\u001b[0m\u001b[0m\n",
      "\u001b[0;32m/srv/conda/envs/notebook/lib/python3.8/site-packages/patsy/tokens.py\u001b[0m in \u001b[0;36mpretty_untokenize\u001b[0;34m(typed_tokens)\u001b[0m\n\u001b[1;32m    101\u001b[0m     \u001b[0mbrackets\u001b[0m \u001b[0;34m=\u001b[0m \u001b[0;34m[\u001b[0m\u001b[0;34m]\u001b[0m\u001b[0;34m\u001b[0m\u001b[0;34m\u001b[0m\u001b[0m\n\u001b[1;32m    102\u001b[0m     \u001b[0;32mfor\u001b[0m \u001b[0mtoken_type\u001b[0m\u001b[0;34m,\u001b[0m \u001b[0mtoken\u001b[0m \u001b[0;32min\u001b[0m \u001b[0mtyped_tokens\u001b[0m\u001b[0;34m:\u001b[0m\u001b[0;34m\u001b[0m\u001b[0;34m\u001b[0m\u001b[0m\n\u001b[0;32m--> 103\u001b[0;31m         assert token_type not in (tokenize.INDENT, tokenize.DEDENT,\n\u001b[0m\u001b[1;32m    104\u001b[0m                                   tokenize.NL)\n\u001b[1;32m    105\u001b[0m         \u001b[0;32mif\u001b[0m \u001b[0mtoken_type\u001b[0m \u001b[0;34m==\u001b[0m \u001b[0mtokenize\u001b[0m\u001b[0;34m.\u001b[0m\u001b[0mNEWLINE\u001b[0m\u001b[0;34m:\u001b[0m\u001b[0;34m\u001b[0m\u001b[0;34m\u001b[0m\u001b[0m\n",
      "\u001b[0;31mAssertionError\u001b[0m: "
     ]
    }
   ],
   "source": [
    "model = sm.OLS.from_formula ('% Desperdicio ~ Kg de producto terminado que se tira',\n",
    "                            data = df)\n",
    "result = model.fit()\n",
    "result.summary()"
   ]
  },
  {
   "cell_type": "markdown",
   "metadata": {},
   "source": [
    "#### Conclusiones\n"
   ]
  },
  {
   "cell_type": "markdown",
   "metadata": {},
   "source": [
    "## 9. ¿Cómo se vería nuevamente la gráfica de dispersión de las observaciones con la gráfica de regresión propuesta por el modelo?, ¿Qué se puede concluir apartir de ello?"
   ]
  },
  {
   "cell_type": "code",
   "execution_count": 29,
   "metadata": {},
   "outputs": [
    {
     "data": {
      "image/png": "[encoded data removed]",
      "text/plain": [
       "<Figure size 432x288 with 1 Axes>"
      ]
     },
     "metadata": {
      "needs_background": "light"
     },
     "output_type": "display_data"
    }
   ],
   "source": [
    "ax = sns.regplot (x='Kg de producto terminado que se tira',\n",
    "                  y='% Desperdicio',\n",
    "                  data = df,\n",
    "                 x_estimator = np.mean,\n",
    "                 )"
   ]
  },
  {
   "attachments": {},
   "cell_type": "markdown",
   "metadata": {},
   "source": [
    "#### Conclusiones\n",
    "\n",
    "Finalmente se grafica de nuevo la Scatter Plot con el pronóstico de regresión y se observa\n",
    "que se ajusta ciertamente bien para conocer el Porcentaje de Desperdicio de los procesos de producción de la empresa Polímeros PR S.A. de C.V. en función de los Kg de sus productos terminados que se tiran, lo cual era la meta del proyecto.\n",
    "\n",
    "Con este nuevo Modelo de Pronóstico, se pueden ingresar las métricas de los kg de cualquier producto terminado que se tiran para conocer el porcentaje de su desperdicio, lo cual es muy útil dentro del área de Control, Calidad y Productividad."
   ]
  }
 ],
 "metadata": {
  "kernelspec": {
   "display_name": "Python 3 (ipykernel)",
   "language": "python",
   "name": "python3"
  },
  "language_info": {
   "codemirror_mode": {
    "name": "ipython",
    "version": 3
   },
   "file_extension": ".py",
   "mimetype": "text/x-python",
   "name": "python",
   "nbconvert_exporter": "python",
   "pygments_lexer": "ipython3",
   "version": "3.8.12"
  }
 },
 "nbformat": 4,
 "nbformat_minor": 4
}
